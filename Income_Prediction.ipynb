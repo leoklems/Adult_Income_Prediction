{
 "cells": [
  {
   "cell_type": "code",
   "execution_count": 61,
   "id": "b1ad16fe",
   "metadata": {},
   "outputs": [],
   "source": [
    "import numpy as np\n",
    "import matplotlib.pyplot as plt\n",
    "import pandas as pd\n",
    "import seaborn as sns\n",
    "from sklearn.preprocessing import StandardScaler, MinMaxScaler\n",
    "from sklearn.preprocessing import LabelEncoder, PolynomialFeatures\n",
    "from sklearn.model_selection import train_test_split, cross_val_score, GridSearchCV\n",
    "from sklearn.neighbors import KNeighborsRegressor, KNeighborsClassifier\n",
    "from sklearn.ensemble import RandomForestClassifier, ExtraTreesClassifier\n",
    "from sklearn.ensemble import BaggingClassifier, GradientBoostingClassifier,  VotingClassifier, StackingClassifier\n",
    "from sklearn.tree import DecisionTreeClassifier\n",
    "from sklearn.dummy import DummyClassifier\n",
    "from sklearn.metrics import mean_squared_error, r2_score, confusion_matrix, classification_report\n",
    "from sklearn.metrics import accuracy_score, precision_score, recall_score, f1_score\n",
    "from sklearn.svm import SVC\n",
    "from scipy.stats import norm\n",
    "import warnings\n",
    "# %matplotlib notebook"
   ]
  },
  {
   "cell_type": "code",
   "execution_count": 2,
   "id": "2b244889",
   "metadata": {
    "scrolled": true
   },
   "outputs": [
    {
     "data": {
      "text/html": [
       "<div>\n",
       "<style scoped>\n",
       "    .dataframe tbody tr th:only-of-type {\n",
       "        vertical-align: middle;\n",
       "    }\n",
       "\n",
       "    .dataframe tbody tr th {\n",
       "        vertical-align: top;\n",
       "    }\n",
       "\n",
       "    .dataframe thead th {\n",
       "        text-align: right;\n",
       "    }\n",
       "</style>\n",
       "<table border=\"1\" class=\"dataframe\">\n",
       "  <thead>\n",
       "    <tr style=\"text-align: right;\">\n",
       "      <th></th>\n",
       "      <th>Age</th>\n",
       "      <th>Workclass</th>\n",
       "      <th>Education</th>\n",
       "      <th>Marital Status</th>\n",
       "      <th>Occupation</th>\n",
       "      <th>Relationship</th>\n",
       "      <th>Race</th>\n",
       "      <th>Sex</th>\n",
       "      <th>capital-gain</th>\n",
       "      <th>capital-loss</th>\n",
       "      <th>hours-per-week</th>\n",
       "      <th>native-country</th>\n",
       "      <th>Income</th>\n",
       "    </tr>\n",
       "  </thead>\n",
       "  <tbody>\n",
       "    <tr>\n",
       "      <th>0</th>\n",
       "      <td>39</td>\n",
       "      <td>State-gov</td>\n",
       "      <td>Bachelors</td>\n",
       "      <td>Never-married</td>\n",
       "      <td>Adm-clerical</td>\n",
       "      <td>Not-in-family</td>\n",
       "      <td>White</td>\n",
       "      <td>Male</td>\n",
       "      <td>2174</td>\n",
       "      <td>0</td>\n",
       "      <td>40</td>\n",
       "      <td>United-States</td>\n",
       "      <td>&lt;=50K</td>\n",
       "    </tr>\n",
       "    <tr>\n",
       "      <th>1</th>\n",
       "      <td>50</td>\n",
       "      <td>Self-emp-not-inc</td>\n",
       "      <td>Bachelors</td>\n",
       "      <td>Married-civ-spouse</td>\n",
       "      <td>Exec-managerial</td>\n",
       "      <td>Husband</td>\n",
       "      <td>White</td>\n",
       "      <td>Male</td>\n",
       "      <td>0</td>\n",
       "      <td>0</td>\n",
       "      <td>13</td>\n",
       "      <td>United-States</td>\n",
       "      <td>&lt;=50K</td>\n",
       "    </tr>\n",
       "    <tr>\n",
       "      <th>2</th>\n",
       "      <td>38</td>\n",
       "      <td>Private</td>\n",
       "      <td>HS-grad</td>\n",
       "      <td>Divorced</td>\n",
       "      <td>Handlers-cleaners</td>\n",
       "      <td>Not-in-family</td>\n",
       "      <td>White</td>\n",
       "      <td>Male</td>\n",
       "      <td>0</td>\n",
       "      <td>0</td>\n",
       "      <td>40</td>\n",
       "      <td>United-States</td>\n",
       "      <td>&lt;=50K</td>\n",
       "    </tr>\n",
       "    <tr>\n",
       "      <th>3</th>\n",
       "      <td>53</td>\n",
       "      <td>Private</td>\n",
       "      <td>11th</td>\n",
       "      <td>Married-civ-spouse</td>\n",
       "      <td>Handlers-cleaners</td>\n",
       "      <td>Husband</td>\n",
       "      <td>Black</td>\n",
       "      <td>Male</td>\n",
       "      <td>0</td>\n",
       "      <td>0</td>\n",
       "      <td>40</td>\n",
       "      <td>United-States</td>\n",
       "      <td>&lt;=50K</td>\n",
       "    </tr>\n",
       "    <tr>\n",
       "      <th>4</th>\n",
       "      <td>28</td>\n",
       "      <td>Private</td>\n",
       "      <td>Bachelors</td>\n",
       "      <td>Married-civ-spouse</td>\n",
       "      <td>Prof-specialty</td>\n",
       "      <td>Wife</td>\n",
       "      <td>Black</td>\n",
       "      <td>Female</td>\n",
       "      <td>0</td>\n",
       "      <td>0</td>\n",
       "      <td>40</td>\n",
       "      <td>Cuba</td>\n",
       "      <td>&lt;=50K</td>\n",
       "    </tr>\n",
       "    <tr>\n",
       "      <th>...</th>\n",
       "      <td>...</td>\n",
       "      <td>...</td>\n",
       "      <td>...</td>\n",
       "      <td>...</td>\n",
       "      <td>...</td>\n",
       "      <td>...</td>\n",
       "      <td>...</td>\n",
       "      <td>...</td>\n",
       "      <td>...</td>\n",
       "      <td>...</td>\n",
       "      <td>...</td>\n",
       "      <td>...</td>\n",
       "      <td>...</td>\n",
       "    </tr>\n",
       "    <tr>\n",
       "      <th>32556</th>\n",
       "      <td>27</td>\n",
       "      <td>Private</td>\n",
       "      <td>Assoc-acdm</td>\n",
       "      <td>Married-civ-spouse</td>\n",
       "      <td>Tech-support</td>\n",
       "      <td>Wife</td>\n",
       "      <td>White</td>\n",
       "      <td>Female</td>\n",
       "      <td>0</td>\n",
       "      <td>0</td>\n",
       "      <td>38</td>\n",
       "      <td>United-States</td>\n",
       "      <td>&lt;=50K</td>\n",
       "    </tr>\n",
       "    <tr>\n",
       "      <th>32557</th>\n",
       "      <td>40</td>\n",
       "      <td>Private</td>\n",
       "      <td>HS-grad</td>\n",
       "      <td>Married-civ-spouse</td>\n",
       "      <td>Machine-op-inspct</td>\n",
       "      <td>Husband</td>\n",
       "      <td>White</td>\n",
       "      <td>Male</td>\n",
       "      <td>0</td>\n",
       "      <td>0</td>\n",
       "      <td>40</td>\n",
       "      <td>United-States</td>\n",
       "      <td>&gt;50K</td>\n",
       "    </tr>\n",
       "    <tr>\n",
       "      <th>32558</th>\n",
       "      <td>58</td>\n",
       "      <td>Private</td>\n",
       "      <td>HS-grad</td>\n",
       "      <td>Widowed</td>\n",
       "      <td>Adm-clerical</td>\n",
       "      <td>Unmarried</td>\n",
       "      <td>White</td>\n",
       "      <td>Female</td>\n",
       "      <td>0</td>\n",
       "      <td>0</td>\n",
       "      <td>40</td>\n",
       "      <td>United-States</td>\n",
       "      <td>&lt;=50K</td>\n",
       "    </tr>\n",
       "    <tr>\n",
       "      <th>32559</th>\n",
       "      <td>22</td>\n",
       "      <td>Private</td>\n",
       "      <td>HS-grad</td>\n",
       "      <td>Never-married</td>\n",
       "      <td>Adm-clerical</td>\n",
       "      <td>Own-child</td>\n",
       "      <td>White</td>\n",
       "      <td>Male</td>\n",
       "      <td>0</td>\n",
       "      <td>0</td>\n",
       "      <td>20</td>\n",
       "      <td>United-States</td>\n",
       "      <td>&lt;=50K</td>\n",
       "    </tr>\n",
       "    <tr>\n",
       "      <th>32560</th>\n",
       "      <td>52</td>\n",
       "      <td>Self-emp-inc</td>\n",
       "      <td>HS-grad</td>\n",
       "      <td>Married-civ-spouse</td>\n",
       "      <td>Exec-managerial</td>\n",
       "      <td>Wife</td>\n",
       "      <td>White</td>\n",
       "      <td>Female</td>\n",
       "      <td>15024</td>\n",
       "      <td>0</td>\n",
       "      <td>40</td>\n",
       "      <td>United-States</td>\n",
       "      <td>&gt;50K</td>\n",
       "    </tr>\n",
       "  </tbody>\n",
       "</table>\n",
       "<p>32561 rows × 13 columns</p>\n",
       "</div>"
      ],
      "text/plain": [
       "       Age          Workclass    Education       Marital Status  \\\n",
       "0       39          State-gov    Bachelors        Never-married   \n",
       "1       50   Self-emp-not-inc    Bachelors   Married-civ-spouse   \n",
       "2       38            Private      HS-grad             Divorced   \n",
       "3       53            Private         11th   Married-civ-spouse   \n",
       "4       28            Private    Bachelors   Married-civ-spouse   \n",
       "...    ...                ...          ...                  ...   \n",
       "32556   27            Private   Assoc-acdm   Married-civ-spouse   \n",
       "32557   40            Private      HS-grad   Married-civ-spouse   \n",
       "32558   58            Private      HS-grad              Widowed   \n",
       "32559   22            Private      HS-grad        Never-married   \n",
       "32560   52       Self-emp-inc      HS-grad   Married-civ-spouse   \n",
       "\n",
       "               Occupation    Relationship    Race      Sex  capital-gain  \\\n",
       "0            Adm-clerical   Not-in-family   White     Male          2174   \n",
       "1         Exec-managerial         Husband   White     Male             0   \n",
       "2       Handlers-cleaners   Not-in-family   White     Male             0   \n",
       "3       Handlers-cleaners         Husband   Black     Male             0   \n",
       "4          Prof-specialty            Wife   Black   Female             0   \n",
       "...                   ...             ...     ...      ...           ...   \n",
       "32556        Tech-support            Wife   White   Female             0   \n",
       "32557   Machine-op-inspct         Husband   White     Male             0   \n",
       "32558        Adm-clerical       Unmarried   White   Female             0   \n",
       "32559        Adm-clerical       Own-child   White     Male             0   \n",
       "32560     Exec-managerial            Wife   White   Female         15024   \n",
       "\n",
       "       capital-loss  hours-per-week  native-country  Income  \n",
       "0                 0              40   United-States   <=50K  \n",
       "1                 0              13   United-States   <=50K  \n",
       "2                 0              40   United-States   <=50K  \n",
       "3                 0              40   United-States   <=50K  \n",
       "4                 0              40            Cuba   <=50K  \n",
       "...             ...             ...             ...     ...  \n",
       "32556             0              38   United-States   <=50K  \n",
       "32557             0              40   United-States    >50K  \n",
       "32558             0              40   United-States   <=50K  \n",
       "32559             0              20   United-States   <=50K  \n",
       "32560             0              40   United-States    >50K  \n",
       "\n",
       "[32561 rows x 13 columns]"
      ]
     },
     "execution_count": 2,
     "metadata": {},
     "output_type": "execute_result"
    }
   ],
   "source": [
    "df = pd.read_csv('Adult Train.csv')\n",
    "df"
   ]
  },
  {
   "cell_type": "markdown",
   "id": "8f381c5c",
   "metadata": {},
   "source": [
    "## Research Question\n",
    "Design a model to be able to accurately classify users into two income categories \" <=50k \" and \" >50k \" = {0, 1:}"
   ]
  },
  {
   "cell_type": "code",
   "execution_count": 3,
   "id": "528dc05b",
   "metadata": {},
   "outputs": [
    {
     "data": {
      "text/html": [
       "<div>\n",
       "<style scoped>\n",
       "    .dataframe tbody tr th:only-of-type {\n",
       "        vertical-align: middle;\n",
       "    }\n",
       "\n",
       "    .dataframe tbody tr th {\n",
       "        vertical-align: top;\n",
       "    }\n",
       "\n",
       "    .dataframe thead th {\n",
       "        text-align: right;\n",
       "    }\n",
       "</style>\n",
       "<table border=\"1\" class=\"dataframe\">\n",
       "  <thead>\n",
       "    <tr style=\"text-align: right;\">\n",
       "      <th></th>\n",
       "      <th>Age</th>\n",
       "      <th>Workclass</th>\n",
       "      <th>Education</th>\n",
       "      <th>Marital Status</th>\n",
       "      <th>Occupation</th>\n",
       "      <th>Relationship</th>\n",
       "      <th>Race</th>\n",
       "      <th>Sex</th>\n",
       "      <th>capital-gain</th>\n",
       "      <th>capital-loss</th>\n",
       "      <th>hours-per-week</th>\n",
       "      <th>native-country</th>\n",
       "      <th>Income</th>\n",
       "    </tr>\n",
       "  </thead>\n",
       "  <tbody>\n",
       "    <tr>\n",
       "      <th>0</th>\n",
       "      <td>39</td>\n",
       "      <td>State-gov</td>\n",
       "      <td>Bachelors</td>\n",
       "      <td>Never-married</td>\n",
       "      <td>Adm-clerical</td>\n",
       "      <td>Not-in-family</td>\n",
       "      <td>White</td>\n",
       "      <td>Male</td>\n",
       "      <td>2174</td>\n",
       "      <td>0</td>\n",
       "      <td>40</td>\n",
       "      <td>United-States</td>\n",
       "      <td>&lt;=50K</td>\n",
       "    </tr>\n",
       "    <tr>\n",
       "      <th>1</th>\n",
       "      <td>50</td>\n",
       "      <td>Self-emp-not-inc</td>\n",
       "      <td>Bachelors</td>\n",
       "      <td>Married-civ-spouse</td>\n",
       "      <td>Exec-managerial</td>\n",
       "      <td>Husband</td>\n",
       "      <td>White</td>\n",
       "      <td>Male</td>\n",
       "      <td>0</td>\n",
       "      <td>0</td>\n",
       "      <td>13</td>\n",
       "      <td>United-States</td>\n",
       "      <td>&lt;=50K</td>\n",
       "    </tr>\n",
       "    <tr>\n",
       "      <th>2</th>\n",
       "      <td>38</td>\n",
       "      <td>Private</td>\n",
       "      <td>HS-grad</td>\n",
       "      <td>Divorced</td>\n",
       "      <td>Handlers-cleaners</td>\n",
       "      <td>Not-in-family</td>\n",
       "      <td>White</td>\n",
       "      <td>Male</td>\n",
       "      <td>0</td>\n",
       "      <td>0</td>\n",
       "      <td>40</td>\n",
       "      <td>United-States</td>\n",
       "      <td>&lt;=50K</td>\n",
       "    </tr>\n",
       "    <tr>\n",
       "      <th>3</th>\n",
       "      <td>53</td>\n",
       "      <td>Private</td>\n",
       "      <td>11th</td>\n",
       "      <td>Married-civ-spouse</td>\n",
       "      <td>Handlers-cleaners</td>\n",
       "      <td>Husband</td>\n",
       "      <td>Black</td>\n",
       "      <td>Male</td>\n",
       "      <td>0</td>\n",
       "      <td>0</td>\n",
       "      <td>40</td>\n",
       "      <td>United-States</td>\n",
       "      <td>&lt;=50K</td>\n",
       "    </tr>\n",
       "    <tr>\n",
       "      <th>5</th>\n",
       "      <td>37</td>\n",
       "      <td>Private</td>\n",
       "      <td>Masters</td>\n",
       "      <td>Married-civ-spouse</td>\n",
       "      <td>Exec-managerial</td>\n",
       "      <td>Wife</td>\n",
       "      <td>White</td>\n",
       "      <td>Female</td>\n",
       "      <td>0</td>\n",
       "      <td>0</td>\n",
       "      <td>40</td>\n",
       "      <td>United-States</td>\n",
       "      <td>&lt;=50K</td>\n",
       "    </tr>\n",
       "    <tr>\n",
       "      <th>...</th>\n",
       "      <td>...</td>\n",
       "      <td>...</td>\n",
       "      <td>...</td>\n",
       "      <td>...</td>\n",
       "      <td>...</td>\n",
       "      <td>...</td>\n",
       "      <td>...</td>\n",
       "      <td>...</td>\n",
       "      <td>...</td>\n",
       "      <td>...</td>\n",
       "      <td>...</td>\n",
       "      <td>...</td>\n",
       "      <td>...</td>\n",
       "    </tr>\n",
       "    <tr>\n",
       "      <th>32556</th>\n",
       "      <td>27</td>\n",
       "      <td>Private</td>\n",
       "      <td>Assoc-acdm</td>\n",
       "      <td>Married-civ-spouse</td>\n",
       "      <td>Tech-support</td>\n",
       "      <td>Wife</td>\n",
       "      <td>White</td>\n",
       "      <td>Female</td>\n",
       "      <td>0</td>\n",
       "      <td>0</td>\n",
       "      <td>38</td>\n",
       "      <td>United-States</td>\n",
       "      <td>&lt;=50K</td>\n",
       "    </tr>\n",
       "    <tr>\n",
       "      <th>32557</th>\n",
       "      <td>40</td>\n",
       "      <td>Private</td>\n",
       "      <td>HS-grad</td>\n",
       "      <td>Married-civ-spouse</td>\n",
       "      <td>Machine-op-inspct</td>\n",
       "      <td>Husband</td>\n",
       "      <td>White</td>\n",
       "      <td>Male</td>\n",
       "      <td>0</td>\n",
       "      <td>0</td>\n",
       "      <td>40</td>\n",
       "      <td>United-States</td>\n",
       "      <td>&gt;50K</td>\n",
       "    </tr>\n",
       "    <tr>\n",
       "      <th>32558</th>\n",
       "      <td>58</td>\n",
       "      <td>Private</td>\n",
       "      <td>HS-grad</td>\n",
       "      <td>Widowed</td>\n",
       "      <td>Adm-clerical</td>\n",
       "      <td>Unmarried</td>\n",
       "      <td>White</td>\n",
       "      <td>Female</td>\n",
       "      <td>0</td>\n",
       "      <td>0</td>\n",
       "      <td>40</td>\n",
       "      <td>United-States</td>\n",
       "      <td>&lt;=50K</td>\n",
       "    </tr>\n",
       "    <tr>\n",
       "      <th>32559</th>\n",
       "      <td>22</td>\n",
       "      <td>Private</td>\n",
       "      <td>HS-grad</td>\n",
       "      <td>Never-married</td>\n",
       "      <td>Adm-clerical</td>\n",
       "      <td>Own-child</td>\n",
       "      <td>White</td>\n",
       "      <td>Male</td>\n",
       "      <td>0</td>\n",
       "      <td>0</td>\n",
       "      <td>20</td>\n",
       "      <td>United-States</td>\n",
       "      <td>&lt;=50K</td>\n",
       "    </tr>\n",
       "    <tr>\n",
       "      <th>32560</th>\n",
       "      <td>52</td>\n",
       "      <td>Self-emp-inc</td>\n",
       "      <td>HS-grad</td>\n",
       "      <td>Married-civ-spouse</td>\n",
       "      <td>Exec-managerial</td>\n",
       "      <td>Wife</td>\n",
       "      <td>White</td>\n",
       "      <td>Female</td>\n",
       "      <td>15024</td>\n",
       "      <td>0</td>\n",
       "      <td>40</td>\n",
       "      <td>United-States</td>\n",
       "      <td>&gt;50K</td>\n",
       "    </tr>\n",
       "  </tbody>\n",
       "</table>\n",
       "<p>29170 rows × 13 columns</p>\n",
       "</div>"
      ],
      "text/plain": [
       "       Age          Workclass    Education       Marital Status  \\\n",
       "0       39          State-gov    Bachelors        Never-married   \n",
       "1       50   Self-emp-not-inc    Bachelors   Married-civ-spouse   \n",
       "2       38            Private      HS-grad             Divorced   \n",
       "3       53            Private         11th   Married-civ-spouse   \n",
       "5       37            Private      Masters   Married-civ-spouse   \n",
       "...    ...                ...          ...                  ...   \n",
       "32556   27            Private   Assoc-acdm   Married-civ-spouse   \n",
       "32557   40            Private      HS-grad   Married-civ-spouse   \n",
       "32558   58            Private      HS-grad              Widowed   \n",
       "32559   22            Private      HS-grad        Never-married   \n",
       "32560   52       Self-emp-inc      HS-grad   Married-civ-spouse   \n",
       "\n",
       "               Occupation    Relationship    Race      Sex  capital-gain  \\\n",
       "0            Adm-clerical   Not-in-family   White     Male          2174   \n",
       "1         Exec-managerial         Husband   White     Male             0   \n",
       "2       Handlers-cleaners   Not-in-family   White     Male             0   \n",
       "3       Handlers-cleaners         Husband   Black     Male             0   \n",
       "5         Exec-managerial            Wife   White   Female             0   \n",
       "...                   ...             ...     ...      ...           ...   \n",
       "32556        Tech-support            Wife   White   Female             0   \n",
       "32557   Machine-op-inspct         Husband   White     Male             0   \n",
       "32558        Adm-clerical       Unmarried   White   Female             0   \n",
       "32559        Adm-clerical       Own-child   White     Male             0   \n",
       "32560     Exec-managerial            Wife   White   Female         15024   \n",
       "\n",
       "       capital-loss  hours-per-week  native-country  Income  \n",
       "0                 0              40   United-States   <=50K  \n",
       "1                 0              13   United-States   <=50K  \n",
       "2                 0              40   United-States   <=50K  \n",
       "3                 0              40   United-States   <=50K  \n",
       "5                 0              40   United-States   <=50K  \n",
       "...             ...             ...             ...     ...  \n",
       "32556             0              38   United-States   <=50K  \n",
       "32557             0              40   United-States    >50K  \n",
       "32558             0              40   United-States   <=50K  \n",
       "32559             0              20   United-States   <=50K  \n",
       "32560             0              40   United-States    >50K  \n",
       "\n",
       "[29170 rows x 13 columns]"
      ]
     },
     "execution_count": 3,
     "metadata": {},
     "output_type": "execute_result"
    }
   ],
   "source": [
    "df_us = df[df['native-country'] == ' United-States']\n",
    "df_us"
   ]
  },
  {
   "cell_type": "code",
   "execution_count": 4,
   "id": "69f84339",
   "metadata": {
    "scrolled": false
   },
   "outputs": [
    {
     "data": {
      "text/html": [
       "<div>\n",
       "<style scoped>\n",
       "    .dataframe tbody tr th:only-of-type {\n",
       "        vertical-align: middle;\n",
       "    }\n",
       "\n",
       "    .dataframe tbody tr th {\n",
       "        vertical-align: top;\n",
       "    }\n",
       "\n",
       "    .dataframe thead th {\n",
       "        text-align: right;\n",
       "    }\n",
       "</style>\n",
       "<table border=\"1\" class=\"dataframe\">\n",
       "  <thead>\n",
       "    <tr style=\"text-align: right;\">\n",
       "      <th></th>\n",
       "      <th>Age</th>\n",
       "      <th>Workclass</th>\n",
       "      <th>Education</th>\n",
       "      <th>Marital Status</th>\n",
       "      <th>Occupation</th>\n",
       "      <th>Relationship</th>\n",
       "      <th>Race</th>\n",
       "      <th>Sex</th>\n",
       "      <th>hours-per-week</th>\n",
       "      <th>Income</th>\n",
       "    </tr>\n",
       "  </thead>\n",
       "  <tbody>\n",
       "    <tr>\n",
       "      <th>0</th>\n",
       "      <td>39</td>\n",
       "      <td>State-gov</td>\n",
       "      <td>Bachelors</td>\n",
       "      <td>Never-married</td>\n",
       "      <td>Adm-clerical</td>\n",
       "      <td>Not-in-family</td>\n",
       "      <td>White</td>\n",
       "      <td>Male</td>\n",
       "      <td>40</td>\n",
       "      <td>&lt;=50K</td>\n",
       "    </tr>\n",
       "    <tr>\n",
       "      <th>1</th>\n",
       "      <td>50</td>\n",
       "      <td>Self-emp-not-inc</td>\n",
       "      <td>Bachelors</td>\n",
       "      <td>Married-civ-spouse</td>\n",
       "      <td>Exec-managerial</td>\n",
       "      <td>Husband</td>\n",
       "      <td>White</td>\n",
       "      <td>Male</td>\n",
       "      <td>13</td>\n",
       "      <td>&lt;=50K</td>\n",
       "    </tr>\n",
       "    <tr>\n",
       "      <th>2</th>\n",
       "      <td>38</td>\n",
       "      <td>Private</td>\n",
       "      <td>HS-grad</td>\n",
       "      <td>Divorced</td>\n",
       "      <td>Handlers-cleaners</td>\n",
       "      <td>Not-in-family</td>\n",
       "      <td>White</td>\n",
       "      <td>Male</td>\n",
       "      <td>40</td>\n",
       "      <td>&lt;=50K</td>\n",
       "    </tr>\n",
       "    <tr>\n",
       "      <th>3</th>\n",
       "      <td>53</td>\n",
       "      <td>Private</td>\n",
       "      <td>11th</td>\n",
       "      <td>Married-civ-spouse</td>\n",
       "      <td>Handlers-cleaners</td>\n",
       "      <td>Husband</td>\n",
       "      <td>Black</td>\n",
       "      <td>Male</td>\n",
       "      <td>40</td>\n",
       "      <td>&lt;=50K</td>\n",
       "    </tr>\n",
       "    <tr>\n",
       "      <th>5</th>\n",
       "      <td>37</td>\n",
       "      <td>Private</td>\n",
       "      <td>Masters</td>\n",
       "      <td>Married-civ-spouse</td>\n",
       "      <td>Exec-managerial</td>\n",
       "      <td>Wife</td>\n",
       "      <td>White</td>\n",
       "      <td>Female</td>\n",
       "      <td>40</td>\n",
       "      <td>&lt;=50K</td>\n",
       "    </tr>\n",
       "    <tr>\n",
       "      <th>...</th>\n",
       "      <td>...</td>\n",
       "      <td>...</td>\n",
       "      <td>...</td>\n",
       "      <td>...</td>\n",
       "      <td>...</td>\n",
       "      <td>...</td>\n",
       "      <td>...</td>\n",
       "      <td>...</td>\n",
       "      <td>...</td>\n",
       "      <td>...</td>\n",
       "    </tr>\n",
       "    <tr>\n",
       "      <th>32556</th>\n",
       "      <td>27</td>\n",
       "      <td>Private</td>\n",
       "      <td>Assoc-acdm</td>\n",
       "      <td>Married-civ-spouse</td>\n",
       "      <td>Tech-support</td>\n",
       "      <td>Wife</td>\n",
       "      <td>White</td>\n",
       "      <td>Female</td>\n",
       "      <td>38</td>\n",
       "      <td>&lt;=50K</td>\n",
       "    </tr>\n",
       "    <tr>\n",
       "      <th>32557</th>\n",
       "      <td>40</td>\n",
       "      <td>Private</td>\n",
       "      <td>HS-grad</td>\n",
       "      <td>Married-civ-spouse</td>\n",
       "      <td>Machine-op-inspct</td>\n",
       "      <td>Husband</td>\n",
       "      <td>White</td>\n",
       "      <td>Male</td>\n",
       "      <td>40</td>\n",
       "      <td>&gt;50K</td>\n",
       "    </tr>\n",
       "    <tr>\n",
       "      <th>32558</th>\n",
       "      <td>58</td>\n",
       "      <td>Private</td>\n",
       "      <td>HS-grad</td>\n",
       "      <td>Widowed</td>\n",
       "      <td>Adm-clerical</td>\n",
       "      <td>Unmarried</td>\n",
       "      <td>White</td>\n",
       "      <td>Female</td>\n",
       "      <td>40</td>\n",
       "      <td>&lt;=50K</td>\n",
       "    </tr>\n",
       "    <tr>\n",
       "      <th>32559</th>\n",
       "      <td>22</td>\n",
       "      <td>Private</td>\n",
       "      <td>HS-grad</td>\n",
       "      <td>Never-married</td>\n",
       "      <td>Adm-clerical</td>\n",
       "      <td>Own-child</td>\n",
       "      <td>White</td>\n",
       "      <td>Male</td>\n",
       "      <td>20</td>\n",
       "      <td>&lt;=50K</td>\n",
       "    </tr>\n",
       "    <tr>\n",
       "      <th>32560</th>\n",
       "      <td>52</td>\n",
       "      <td>Self-emp-inc</td>\n",
       "      <td>HS-grad</td>\n",
       "      <td>Married-civ-spouse</td>\n",
       "      <td>Exec-managerial</td>\n",
       "      <td>Wife</td>\n",
       "      <td>White</td>\n",
       "      <td>Female</td>\n",
       "      <td>40</td>\n",
       "      <td>&gt;50K</td>\n",
       "    </tr>\n",
       "  </tbody>\n",
       "</table>\n",
       "<p>29170 rows × 10 columns</p>\n",
       "</div>"
      ],
      "text/plain": [
       "       Age          Workclass    Education       Marital Status  \\\n",
       "0       39          State-gov    Bachelors        Never-married   \n",
       "1       50   Self-emp-not-inc    Bachelors   Married-civ-spouse   \n",
       "2       38            Private      HS-grad             Divorced   \n",
       "3       53            Private         11th   Married-civ-spouse   \n",
       "5       37            Private      Masters   Married-civ-spouse   \n",
       "...    ...                ...          ...                  ...   \n",
       "32556   27            Private   Assoc-acdm   Married-civ-spouse   \n",
       "32557   40            Private      HS-grad   Married-civ-spouse   \n",
       "32558   58            Private      HS-grad              Widowed   \n",
       "32559   22            Private      HS-grad        Never-married   \n",
       "32560   52       Self-emp-inc      HS-grad   Married-civ-spouse   \n",
       "\n",
       "               Occupation    Relationship    Race      Sex  hours-per-week  \\\n",
       "0            Adm-clerical   Not-in-family   White     Male              40   \n",
       "1         Exec-managerial         Husband   White     Male              13   \n",
       "2       Handlers-cleaners   Not-in-family   White     Male              40   \n",
       "3       Handlers-cleaners         Husband   Black     Male              40   \n",
       "5         Exec-managerial            Wife   White   Female              40   \n",
       "...                   ...             ...     ...      ...             ...   \n",
       "32556        Tech-support            Wife   White   Female              38   \n",
       "32557   Machine-op-inspct         Husband   White     Male              40   \n",
       "32558        Adm-clerical       Unmarried   White   Female              40   \n",
       "32559        Adm-clerical       Own-child   White     Male              20   \n",
       "32560     Exec-managerial            Wife   White   Female              40   \n",
       "\n",
       "       Income  \n",
       "0       <=50K  \n",
       "1       <=50K  \n",
       "2       <=50K  \n",
       "3       <=50K  \n",
       "5       <=50K  \n",
       "...       ...  \n",
       "32556   <=50K  \n",
       "32557    >50K  \n",
       "32558   <=50K  \n",
       "32559   <=50K  \n",
       "32560    >50K  \n",
       "\n",
       "[29170 rows x 10 columns]"
      ]
     },
     "execution_count": 4,
     "metadata": {},
     "output_type": "execute_result"
    }
   ],
   "source": [
    "df_us = df_us.drop(columns=['capital-loss', 'capital-gain', 'native-country'])\n",
    "df_us"
   ]
  },
  {
   "cell_type": "code",
   "execution_count": 5,
   "id": "e7b355c9",
   "metadata": {
    "scrolled": false
   },
   "outputs": [
    {
     "data": {
      "text/html": [
       "<div>\n",
       "<style scoped>\n",
       "    .dataframe tbody tr th:only-of-type {\n",
       "        vertical-align: middle;\n",
       "    }\n",
       "\n",
       "    .dataframe tbody tr th {\n",
       "        vertical-align: top;\n",
       "    }\n",
       "\n",
       "    .dataframe thead th {\n",
       "        text-align: right;\n",
       "    }\n",
       "</style>\n",
       "<table border=\"1\" class=\"dataframe\">\n",
       "  <thead>\n",
       "    <tr style=\"text-align: right;\">\n",
       "      <th></th>\n",
       "      <th>Age</th>\n",
       "      <th>Workclass</th>\n",
       "      <th>Education</th>\n",
       "      <th>Marital Status</th>\n",
       "      <th>Occupation</th>\n",
       "      <th>Relationship</th>\n",
       "      <th>Race</th>\n",
       "      <th>Sex</th>\n",
       "      <th>hours-per-week</th>\n",
       "      <th>Income</th>\n",
       "    </tr>\n",
       "  </thead>\n",
       "  <tbody>\n",
       "    <tr>\n",
       "      <th>0</th>\n",
       "      <td>39</td>\n",
       "      <td>State-gov</td>\n",
       "      <td>Bachelors</td>\n",
       "      <td>Never-married</td>\n",
       "      <td>Adm-clerical</td>\n",
       "      <td>Not-in-family</td>\n",
       "      <td>White</td>\n",
       "      <td>Male</td>\n",
       "      <td>40</td>\n",
       "      <td>&lt;=50K</td>\n",
       "    </tr>\n",
       "    <tr>\n",
       "      <th>1</th>\n",
       "      <td>50</td>\n",
       "      <td>Self-emp-not-inc</td>\n",
       "      <td>Bachelors</td>\n",
       "      <td>Married-civ-spouse</td>\n",
       "      <td>Exec-managerial</td>\n",
       "      <td>Husband</td>\n",
       "      <td>White</td>\n",
       "      <td>Male</td>\n",
       "      <td>13</td>\n",
       "      <td>&lt;=50K</td>\n",
       "    </tr>\n",
       "    <tr>\n",
       "      <th>2</th>\n",
       "      <td>38</td>\n",
       "      <td>Private</td>\n",
       "      <td>HS-grad</td>\n",
       "      <td>Divorced</td>\n",
       "      <td>Handlers-cleaners</td>\n",
       "      <td>Not-in-family</td>\n",
       "      <td>White</td>\n",
       "      <td>Male</td>\n",
       "      <td>40</td>\n",
       "      <td>&lt;=50K</td>\n",
       "    </tr>\n",
       "    <tr>\n",
       "      <th>3</th>\n",
       "      <td>53</td>\n",
       "      <td>Private</td>\n",
       "      <td>11th</td>\n",
       "      <td>Married-civ-spouse</td>\n",
       "      <td>Handlers-cleaners</td>\n",
       "      <td>Husband</td>\n",
       "      <td>Black</td>\n",
       "      <td>Male</td>\n",
       "      <td>40</td>\n",
       "      <td>&lt;=50K</td>\n",
       "    </tr>\n",
       "    <tr>\n",
       "      <th>5</th>\n",
       "      <td>37</td>\n",
       "      <td>Private</td>\n",
       "      <td>Masters</td>\n",
       "      <td>Married-civ-spouse</td>\n",
       "      <td>Exec-managerial</td>\n",
       "      <td>Wife</td>\n",
       "      <td>White</td>\n",
       "      <td>Female</td>\n",
       "      <td>40</td>\n",
       "      <td>&lt;=50K</td>\n",
       "    </tr>\n",
       "    <tr>\n",
       "      <th>...</th>\n",
       "      <td>...</td>\n",
       "      <td>...</td>\n",
       "      <td>...</td>\n",
       "      <td>...</td>\n",
       "      <td>...</td>\n",
       "      <td>...</td>\n",
       "      <td>...</td>\n",
       "      <td>...</td>\n",
       "      <td>...</td>\n",
       "      <td>...</td>\n",
       "    </tr>\n",
       "    <tr>\n",
       "      <th>32556</th>\n",
       "      <td>27</td>\n",
       "      <td>Private</td>\n",
       "      <td>Assoc-acdm</td>\n",
       "      <td>Married-civ-spouse</td>\n",
       "      <td>Tech-support</td>\n",
       "      <td>Wife</td>\n",
       "      <td>White</td>\n",
       "      <td>Female</td>\n",
       "      <td>38</td>\n",
       "      <td>&lt;=50K</td>\n",
       "    </tr>\n",
       "    <tr>\n",
       "      <th>32557</th>\n",
       "      <td>40</td>\n",
       "      <td>Private</td>\n",
       "      <td>HS-grad</td>\n",
       "      <td>Married-civ-spouse</td>\n",
       "      <td>Machine-op-inspct</td>\n",
       "      <td>Husband</td>\n",
       "      <td>White</td>\n",
       "      <td>Male</td>\n",
       "      <td>40</td>\n",
       "      <td>&gt;50K</td>\n",
       "    </tr>\n",
       "    <tr>\n",
       "      <th>32558</th>\n",
       "      <td>58</td>\n",
       "      <td>Private</td>\n",
       "      <td>HS-grad</td>\n",
       "      <td>Widowed</td>\n",
       "      <td>Adm-clerical</td>\n",
       "      <td>Unmarried</td>\n",
       "      <td>White</td>\n",
       "      <td>Female</td>\n",
       "      <td>40</td>\n",
       "      <td>&lt;=50K</td>\n",
       "    </tr>\n",
       "    <tr>\n",
       "      <th>32559</th>\n",
       "      <td>22</td>\n",
       "      <td>Private</td>\n",
       "      <td>HS-grad</td>\n",
       "      <td>Never-married</td>\n",
       "      <td>Adm-clerical</td>\n",
       "      <td>Own-child</td>\n",
       "      <td>White</td>\n",
       "      <td>Male</td>\n",
       "      <td>20</td>\n",
       "      <td>&lt;=50K</td>\n",
       "    </tr>\n",
       "    <tr>\n",
       "      <th>32560</th>\n",
       "      <td>52</td>\n",
       "      <td>Self-emp-inc</td>\n",
       "      <td>HS-grad</td>\n",
       "      <td>Married-civ-spouse</td>\n",
       "      <td>Exec-managerial</td>\n",
       "      <td>Wife</td>\n",
       "      <td>White</td>\n",
       "      <td>Female</td>\n",
       "      <td>40</td>\n",
       "      <td>&gt;50K</td>\n",
       "    </tr>\n",
       "  </tbody>\n",
       "</table>\n",
       "<p>27504 rows × 10 columns</p>\n",
       "</div>"
      ],
      "text/plain": [
       "       Age          Workclass    Education       Marital Status  \\\n",
       "0       39          State-gov    Bachelors        Never-married   \n",
       "1       50   Self-emp-not-inc    Bachelors   Married-civ-spouse   \n",
       "2       38            Private      HS-grad             Divorced   \n",
       "3       53            Private         11th   Married-civ-spouse   \n",
       "5       37            Private      Masters   Married-civ-spouse   \n",
       "...    ...                ...          ...                  ...   \n",
       "32556   27            Private   Assoc-acdm   Married-civ-spouse   \n",
       "32557   40            Private      HS-grad   Married-civ-spouse   \n",
       "32558   58            Private      HS-grad              Widowed   \n",
       "32559   22            Private      HS-grad        Never-married   \n",
       "32560   52       Self-emp-inc      HS-grad   Married-civ-spouse   \n",
       "\n",
       "               Occupation    Relationship    Race      Sex  hours-per-week  \\\n",
       "0            Adm-clerical   Not-in-family   White     Male              40   \n",
       "1         Exec-managerial         Husband   White     Male              13   \n",
       "2       Handlers-cleaners   Not-in-family   White     Male              40   \n",
       "3       Handlers-cleaners         Husband   Black     Male              40   \n",
       "5         Exec-managerial            Wife   White   Female              40   \n",
       "...                   ...             ...     ...      ...             ...   \n",
       "32556        Tech-support            Wife   White   Female              38   \n",
       "32557   Machine-op-inspct         Husband   White     Male              40   \n",
       "32558        Adm-clerical       Unmarried   White   Female              40   \n",
       "32559        Adm-clerical       Own-child   White     Male              20   \n",
       "32560     Exec-managerial            Wife   White   Female              40   \n",
       "\n",
       "       Income  \n",
       "0       <=50K  \n",
       "1       <=50K  \n",
       "2       <=50K  \n",
       "3       <=50K  \n",
       "5       <=50K  \n",
       "...       ...  \n",
       "32556   <=50K  \n",
       "32557    >50K  \n",
       "32558   <=50K  \n",
       "32559   <=50K  \n",
       "32560    >50K  \n",
       "\n",
       "[27504 rows x 10 columns]"
      ]
     },
     "execution_count": 5,
     "metadata": {},
     "output_type": "execute_result"
    }
   ],
   "source": [
    "df_us = df_us[df_us['Occupation'] != ' ?']\n",
    "df_us"
   ]
  },
  {
   "cell_type": "code",
   "execution_count": 6,
   "id": "c9d0ba3c",
   "metadata": {},
   "outputs": [
    {
     "data": {
      "text/html": [
       "<div>\n",
       "<style scoped>\n",
       "    .dataframe tbody tr th:only-of-type {\n",
       "        vertical-align: middle;\n",
       "    }\n",
       "\n",
       "    .dataframe tbody tr th {\n",
       "        vertical-align: top;\n",
       "    }\n",
       "\n",
       "    .dataframe thead th {\n",
       "        text-align: right;\n",
       "    }\n",
       "</style>\n",
       "<table border=\"1\" class=\"dataframe\">\n",
       "  <thead>\n",
       "    <tr style=\"text-align: right;\">\n",
       "      <th></th>\n",
       "      <th>Age</th>\n",
       "      <th>hours-per-week</th>\n",
       "    </tr>\n",
       "  </thead>\n",
       "  <tbody>\n",
       "    <tr>\n",
       "      <th>count</th>\n",
       "      <td>27504.000000</td>\n",
       "      <td>27504.000000</td>\n",
       "    </tr>\n",
       "    <tr>\n",
       "      <th>mean</th>\n",
       "      <td>38.504290</td>\n",
       "      <td>40.970986</td>\n",
       "    </tr>\n",
       "    <tr>\n",
       "      <th>std</th>\n",
       "      <td>13.184357</td>\n",
       "      <td>12.041120</td>\n",
       "    </tr>\n",
       "    <tr>\n",
       "      <th>min</th>\n",
       "      <td>17.000000</td>\n",
       "      <td>1.000000</td>\n",
       "    </tr>\n",
       "    <tr>\n",
       "      <th>25%</th>\n",
       "      <td>28.000000</td>\n",
       "      <td>40.000000</td>\n",
       "    </tr>\n",
       "    <tr>\n",
       "      <th>50%</th>\n",
       "      <td>37.000000</td>\n",
       "      <td>40.000000</td>\n",
       "    </tr>\n",
       "    <tr>\n",
       "      <th>75%</th>\n",
       "      <td>47.000000</td>\n",
       "      <td>45.000000</td>\n",
       "    </tr>\n",
       "    <tr>\n",
       "      <th>max</th>\n",
       "      <td>90.000000</td>\n",
       "      <td>99.000000</td>\n",
       "    </tr>\n",
       "  </tbody>\n",
       "</table>\n",
       "</div>"
      ],
      "text/plain": [
       "                Age  hours-per-week\n",
       "count  27504.000000    27504.000000\n",
       "mean      38.504290       40.970986\n",
       "std       13.184357       12.041120\n",
       "min       17.000000        1.000000\n",
       "25%       28.000000       40.000000\n",
       "50%       37.000000       40.000000\n",
       "75%       47.000000       45.000000\n",
       "max       90.000000       99.000000"
      ]
     },
     "execution_count": 6,
     "metadata": {},
     "output_type": "execute_result"
    }
   ],
   "source": [
    "df_us.describe()"
   ]
  },
  {
   "cell_type": "code",
   "execution_count": 7,
   "id": "d452c06a",
   "metadata": {
    "scrolled": true
   },
   "outputs": [
    {
     "data": {
      "text/plain": [
       "array([' Adm-clerical', ' Exec-managerial', ' Handlers-cleaners',\n",
       "       ' Prof-specialty', ' Sales', ' Farming-fishing',\n",
       "       ' Machine-op-inspct', ' Other-service', ' Transport-moving',\n",
       "       ' Tech-support', ' Craft-repair', ' Protective-serv',\n",
       "       ' Armed-Forces', ' Priv-house-serv'], dtype=object)"
      ]
     },
     "execution_count": 7,
     "metadata": {},
     "output_type": "execute_result"
    }
   ],
   "source": [
    "df_us.Occupation.unique()"
   ]
  },
  {
   "cell_type": "code",
   "execution_count": 8,
   "id": "ff8f0a41",
   "metadata": {},
   "outputs": [
    {
     "data": {
      "text/plain": [
       "array([' <=50K', ' >50K'], dtype=object)"
      ]
     },
     "execution_count": 8,
     "metadata": {},
     "output_type": "execute_result"
    }
   ],
   "source": [
    "df_us.Income.unique()"
   ]
  },
  {
   "cell_type": "code",
   "execution_count": 9,
   "id": "e1b7e513",
   "metadata": {
    "scrolled": true
   },
   "outputs": [
    {
     "data": {
      "text/plain": [
       "array([' United-States', ' Cuba', ' Jamaica', ' India', ' ?', ' Mexico',\n",
       "       ' South', ' Puerto-Rico', ' Honduras', ' England', ' Canada',\n",
       "       ' Germany', ' Iran', ' Philippines', ' Italy', ' Poland',\n",
       "       ' Columbia', ' Cambodia', ' Thailand', ' Ecuador', ' Laos',\n",
       "       ' Taiwan', ' Haiti', ' Portugal', ' Dominican-Republic',\n",
       "       ' El-Salvador', ' France', ' Guatemala', ' China', ' Japan',\n",
       "       ' Yugoslavia', ' Peru', ' Outlying-US(Guam-USVI-etc)', ' Scotland',\n",
       "       ' Trinadad&Tobago', ' Greece', ' Nicaragua', ' Vietnam', ' Hong',\n",
       "       ' Ireland', ' Hungary', ' Holand-Netherlands'], dtype=object)"
      ]
     },
     "execution_count": 9,
     "metadata": {},
     "output_type": "execute_result"
    }
   ],
   "source": [
    "df['native-country'].unique()"
   ]
  },
  {
   "cell_type": "code",
   "execution_count": 10,
   "id": "a570afaf",
   "metadata": {},
   "outputs": [
    {
     "data": {
      "text/plain": [
       " Exec-managerial      3735\n",
       " Prof-specialty       3693\n",
       " Craft-repair         3685\n",
       " Adm-clerical         3449\n",
       " Sales                3364\n",
       " Other-service        2777\n",
       " Machine-op-inspct    1687\n",
       " Transport-moving     1491\n",
       " Handlers-cleaners    1189\n",
       " Farming-fishing       879\n",
       " Tech-support          850\n",
       " Protective-serv       606\n",
       " Priv-house-serv        90\n",
       " Armed-Forces            9\n",
       "Name: Occupation, dtype: int64"
      ]
     },
     "execution_count": 10,
     "metadata": {},
     "output_type": "execute_result"
    }
   ],
   "source": [
    "df_us['Occupation'].value_counts()"
   ]
  },
  {
   "cell_type": "code",
   "execution_count": 11,
   "id": "a6fe116b",
   "metadata": {},
   "outputs": [
    {
     "data": {
      "text/plain": [
       "Age               0\n",
       "Workclass         0\n",
       "Education         0\n",
       "Marital Status    0\n",
       "Occupation        0\n",
       "Relationship      0\n",
       "Race              0\n",
       "Sex               0\n",
       "capital-gain      0\n",
       "capital-loss      0\n",
       "hours-per-week    0\n",
       "native-country    0\n",
       "Income            0\n",
       "dtype: int64"
      ]
     },
     "execution_count": 11,
     "metadata": {},
     "output_type": "execute_result"
    }
   ],
   "source": [
    "df.isnull().sum()"
   ]
  },
  {
   "cell_type": "code",
   "execution_count": 83,
   "id": "49a38b8e",
   "metadata": {},
   "outputs": [
    {
     "ename": "ValueError",
     "evalue": "Could not interpret input 'Sex'",
     "output_type": "error",
     "traceback": [
      "\u001b[1;31m---------------------------------------------------------------------------\u001b[0m",
      "\u001b[1;31mValueError\u001b[0m                                Traceback (most recent call last)",
      "Input \u001b[1;32mIn [83]\u001b[0m, in \u001b[0;36m<cell line: 3>\u001b[1;34m()\u001b[0m\n\u001b[0;32m      1\u001b[0m fig, axs \u001b[38;5;241m=\u001b[39m plt\u001b[38;5;241m.\u001b[39msubplots(\u001b[38;5;241m2\u001b[39m,\u001b[38;5;241m2\u001b[39m, figsize \u001b[38;5;241m=\u001b[39m (\u001b[38;5;241m12\u001b[39m,\u001b[38;5;241m8\u001b[39m))\n\u001b[0;32m      2\u001b[0m sns\u001b[38;5;241m.\u001b[39mboxplot(ax \u001b[38;5;241m=\u001b[39m axs[\u001b[38;5;241m0\u001b[39m,\u001b[38;5;241m0\u001b[39m], x \u001b[38;5;241m=\u001b[39m \u001b[38;5;124m'\u001b[39m\u001b[38;5;124mAge\u001b[39m\u001b[38;5;124m'\u001b[39m, data \u001b[38;5;241m=\u001b[39m df_us)\n\u001b[1;32m----> 3\u001b[0m \u001b[43msns\u001b[49m\u001b[38;5;241;43m.\u001b[39;49m\u001b[43mcountplot\u001b[49m\u001b[43m(\u001b[49m\u001b[43max\u001b[49m\u001b[43m \u001b[49m\u001b[38;5;241;43m=\u001b[39;49m\u001b[43m \u001b[49m\u001b[43maxs\u001b[49m\u001b[43m[\u001b[49m\u001b[38;5;241;43m0\u001b[39;49m\u001b[43m,\u001b[49m\u001b[38;5;241;43m1\u001b[39;49m\u001b[43m]\u001b[49m\u001b[43m,\u001b[49m\u001b[43m \u001b[49m\u001b[43mx\u001b[49m\u001b[43m \u001b[49m\u001b[38;5;241;43m=\u001b[39;49m\u001b[43m \u001b[49m\u001b[38;5;124;43m'\u001b[39;49m\u001b[38;5;124;43mSex\u001b[39;49m\u001b[38;5;124;43m'\u001b[39;49m\u001b[43m,\u001b[49m\u001b[43m \u001b[49m\u001b[43mdata\u001b[49m\u001b[43m \u001b[49m\u001b[38;5;241;43m=\u001b[39;49m\u001b[43m \u001b[49m\u001b[43mdf_us\u001b[49m\u001b[43m)\u001b[49m\n\u001b[0;32m      4\u001b[0m sns\u001b[38;5;241m.\u001b[39mcountplot(ax \u001b[38;5;241m=\u001b[39m axs[\u001b[38;5;241m1\u001b[39m,\u001b[38;5;241m0\u001b[39m], x \u001b[38;5;241m=\u001b[39m \u001b[38;5;124m'\u001b[39m\u001b[38;5;124mEducation\u001b[39m\u001b[38;5;124m'\u001b[39m, data \u001b[38;5;241m=\u001b[39m df_us)\n\u001b[0;32m      5\u001b[0m sns\u001b[38;5;241m.\u001b[39mcountplot(ax \u001b[38;5;241m=\u001b[39m axs[\u001b[38;5;241m1\u001b[39m,\u001b[38;5;241m1\u001b[39m], x \u001b[38;5;241m=\u001b[39m \u001b[38;5;124m'\u001b[39m\u001b[38;5;124mIncome\u001b[39m\u001b[38;5;124m'\u001b[39m, data \u001b[38;5;241m=\u001b[39m df_us)\n",
      "File \u001b[1;32m~\\anaconda3\\lib\\site-packages\\seaborn\\_decorators.py:46\u001b[0m, in \u001b[0;36m_deprecate_positional_args.<locals>.inner_f\u001b[1;34m(*args, **kwargs)\u001b[0m\n\u001b[0;32m     36\u001b[0m     warnings\u001b[38;5;241m.\u001b[39mwarn(\n\u001b[0;32m     37\u001b[0m         \u001b[38;5;124m\"\u001b[39m\u001b[38;5;124mPass the following variable\u001b[39m\u001b[38;5;132;01m{}\u001b[39;00m\u001b[38;5;124m as \u001b[39m\u001b[38;5;132;01m{}\u001b[39;00m\u001b[38;5;124mkeyword arg\u001b[39m\u001b[38;5;132;01m{}\u001b[39;00m\u001b[38;5;124m: \u001b[39m\u001b[38;5;132;01m{}\u001b[39;00m\u001b[38;5;124m. \u001b[39m\u001b[38;5;124m\"\u001b[39m\n\u001b[0;32m     38\u001b[0m         \u001b[38;5;124m\"\u001b[39m\u001b[38;5;124mFrom version 0.12, the only valid positional argument \u001b[39m\u001b[38;5;124m\"\u001b[39m\n\u001b[1;32m   (...)\u001b[0m\n\u001b[0;32m     43\u001b[0m         \u001b[38;5;167;01mFutureWarning\u001b[39;00m\n\u001b[0;32m     44\u001b[0m     )\n\u001b[0;32m     45\u001b[0m kwargs\u001b[38;5;241m.\u001b[39mupdate({k: arg \u001b[38;5;28;01mfor\u001b[39;00m k, arg \u001b[38;5;129;01min\u001b[39;00m \u001b[38;5;28mzip\u001b[39m(sig\u001b[38;5;241m.\u001b[39mparameters, args)})\n\u001b[1;32m---> 46\u001b[0m \u001b[38;5;28;01mreturn\u001b[39;00m f(\u001b[38;5;241m*\u001b[39m\u001b[38;5;241m*\u001b[39mkwargs)\n",
      "File \u001b[1;32m~\\anaconda3\\lib\\site-packages\\seaborn\\categorical.py:3598\u001b[0m, in \u001b[0;36mcountplot\u001b[1;34m(x, y, hue, data, order, hue_order, orient, color, palette, saturation, dodge, ax, **kwargs)\u001b[0m\n\u001b[0;32m   3595\u001b[0m \u001b[38;5;28;01melif\u001b[39;00m x \u001b[38;5;129;01mis\u001b[39;00m \u001b[38;5;129;01mnot\u001b[39;00m \u001b[38;5;28;01mNone\u001b[39;00m \u001b[38;5;129;01mand\u001b[39;00m y \u001b[38;5;129;01mis\u001b[39;00m \u001b[38;5;129;01mnot\u001b[39;00m \u001b[38;5;28;01mNone\u001b[39;00m:\n\u001b[0;32m   3596\u001b[0m     \u001b[38;5;28;01mraise\u001b[39;00m \u001b[38;5;167;01mValueError\u001b[39;00m(\u001b[38;5;124m\"\u001b[39m\u001b[38;5;124mCannot pass values for both `x` and `y`\u001b[39m\u001b[38;5;124m\"\u001b[39m)\n\u001b[1;32m-> 3598\u001b[0m plotter \u001b[38;5;241m=\u001b[39m \u001b[43m_CountPlotter\u001b[49m\u001b[43m(\u001b[49m\n\u001b[0;32m   3599\u001b[0m \u001b[43m    \u001b[49m\u001b[43mx\u001b[49m\u001b[43m,\u001b[49m\u001b[43m \u001b[49m\u001b[43my\u001b[49m\u001b[43m,\u001b[49m\u001b[43m \u001b[49m\u001b[43mhue\u001b[49m\u001b[43m,\u001b[49m\u001b[43m \u001b[49m\u001b[43mdata\u001b[49m\u001b[43m,\u001b[49m\u001b[43m \u001b[49m\u001b[43morder\u001b[49m\u001b[43m,\u001b[49m\u001b[43m \u001b[49m\u001b[43mhue_order\u001b[49m\u001b[43m,\u001b[49m\n\u001b[0;32m   3600\u001b[0m \u001b[43m    \u001b[49m\u001b[43mestimator\u001b[49m\u001b[43m,\u001b[49m\u001b[43m \u001b[49m\u001b[43mci\u001b[49m\u001b[43m,\u001b[49m\u001b[43m \u001b[49m\u001b[43mn_boot\u001b[49m\u001b[43m,\u001b[49m\u001b[43m \u001b[49m\u001b[43munits\u001b[49m\u001b[43m,\u001b[49m\u001b[43m \u001b[49m\u001b[43mseed\u001b[49m\u001b[43m,\u001b[49m\n\u001b[0;32m   3601\u001b[0m \u001b[43m    \u001b[49m\u001b[43morient\u001b[49m\u001b[43m,\u001b[49m\u001b[43m \u001b[49m\u001b[43mcolor\u001b[49m\u001b[43m,\u001b[49m\u001b[43m \u001b[49m\u001b[43mpalette\u001b[49m\u001b[43m,\u001b[49m\u001b[43m \u001b[49m\u001b[43msaturation\u001b[49m\u001b[43m,\u001b[49m\n\u001b[0;32m   3602\u001b[0m \u001b[43m    \u001b[49m\u001b[43merrcolor\u001b[49m\u001b[43m,\u001b[49m\u001b[43m \u001b[49m\u001b[43merrwidth\u001b[49m\u001b[43m,\u001b[49m\u001b[43m \u001b[49m\u001b[43mcapsize\u001b[49m\u001b[43m,\u001b[49m\u001b[43m \u001b[49m\u001b[43mdodge\u001b[49m\n\u001b[0;32m   3603\u001b[0m \u001b[43m\u001b[49m\u001b[43m)\u001b[49m\n\u001b[0;32m   3605\u001b[0m plotter\u001b[38;5;241m.\u001b[39mvalue_label \u001b[38;5;241m=\u001b[39m \u001b[38;5;124m\"\u001b[39m\u001b[38;5;124mcount\u001b[39m\u001b[38;5;124m\"\u001b[39m\n\u001b[0;32m   3607\u001b[0m \u001b[38;5;28;01mif\u001b[39;00m ax \u001b[38;5;129;01mis\u001b[39;00m \u001b[38;5;28;01mNone\u001b[39;00m:\n",
      "File \u001b[1;32m~\\anaconda3\\lib\\site-packages\\seaborn\\categorical.py:1584\u001b[0m, in \u001b[0;36m_BarPlotter.__init__\u001b[1;34m(self, x, y, hue, data, order, hue_order, estimator, ci, n_boot, units, seed, orient, color, palette, saturation, errcolor, errwidth, capsize, dodge)\u001b[0m\n\u001b[0;32m   1579\u001b[0m \u001b[38;5;28;01mdef\u001b[39;00m \u001b[38;5;21m__init__\u001b[39m(\u001b[38;5;28mself\u001b[39m, x, y, hue, data, order, hue_order,\n\u001b[0;32m   1580\u001b[0m              estimator, ci, n_boot, units, seed,\n\u001b[0;32m   1581\u001b[0m              orient, color, palette, saturation, errcolor,\n\u001b[0;32m   1582\u001b[0m              errwidth, capsize, dodge):\n\u001b[0;32m   1583\u001b[0m     \u001b[38;5;124;03m\"\"\"Initialize the plotter.\"\"\"\u001b[39;00m\n\u001b[1;32m-> 1584\u001b[0m     \u001b[38;5;28;43mself\u001b[39;49m\u001b[38;5;241;43m.\u001b[39;49m\u001b[43mestablish_variables\u001b[49m\u001b[43m(\u001b[49m\u001b[43mx\u001b[49m\u001b[43m,\u001b[49m\u001b[43m \u001b[49m\u001b[43my\u001b[49m\u001b[43m,\u001b[49m\u001b[43m \u001b[49m\u001b[43mhue\u001b[49m\u001b[43m,\u001b[49m\u001b[43m \u001b[49m\u001b[43mdata\u001b[49m\u001b[43m,\u001b[49m\u001b[43m \u001b[49m\u001b[43morient\u001b[49m\u001b[43m,\u001b[49m\n\u001b[0;32m   1585\u001b[0m \u001b[43m                             \u001b[49m\u001b[43morder\u001b[49m\u001b[43m,\u001b[49m\u001b[43m \u001b[49m\u001b[43mhue_order\u001b[49m\u001b[43m,\u001b[49m\u001b[43m \u001b[49m\u001b[43munits\u001b[49m\u001b[43m)\u001b[49m\n\u001b[0;32m   1586\u001b[0m     \u001b[38;5;28mself\u001b[39m\u001b[38;5;241m.\u001b[39mestablish_colors(color, palette, saturation)\n\u001b[0;32m   1587\u001b[0m     \u001b[38;5;28mself\u001b[39m\u001b[38;5;241m.\u001b[39mestimate_statistic(estimator, ci, n_boot, seed)\n",
      "File \u001b[1;32m~\\anaconda3\\lib\\site-packages\\seaborn\\categorical.py:153\u001b[0m, in \u001b[0;36m_CategoricalPlotter.establish_variables\u001b[1;34m(self, x, y, hue, data, orient, order, hue_order, units)\u001b[0m\n\u001b[0;32m    151\u001b[0m     \u001b[38;5;28;01mif\u001b[39;00m \u001b[38;5;28misinstance\u001b[39m(var, \u001b[38;5;28mstr\u001b[39m):\n\u001b[0;32m    152\u001b[0m         err \u001b[38;5;241m=\u001b[39m \u001b[38;5;124m\"\u001b[39m\u001b[38;5;124mCould not interpret input \u001b[39m\u001b[38;5;124m'\u001b[39m\u001b[38;5;132;01m{}\u001b[39;00m\u001b[38;5;124m'\u001b[39m\u001b[38;5;124m\"\u001b[39m\u001b[38;5;241m.\u001b[39mformat(var)\n\u001b[1;32m--> 153\u001b[0m         \u001b[38;5;28;01mraise\u001b[39;00m \u001b[38;5;167;01mValueError\u001b[39;00m(err)\n\u001b[0;32m    155\u001b[0m \u001b[38;5;66;03m# Figure out the plotting orientation\u001b[39;00m\n\u001b[0;32m    156\u001b[0m orient \u001b[38;5;241m=\u001b[39m infer_orient(\n\u001b[0;32m    157\u001b[0m     x, y, orient, require_numeric\u001b[38;5;241m=\u001b[39m\u001b[38;5;28mself\u001b[39m\u001b[38;5;241m.\u001b[39mrequire_numeric\n\u001b[0;32m    158\u001b[0m )\n",
      "\u001b[1;31mValueError\u001b[0m: Could not interpret input 'Sex'"
     ]
    },
    {
     "data": {
      "image/png": "[encoded data removed]",
      "text/plain": [
       "<Figure size 864x576 with 4 Axes>"
      ]
     },
     "metadata": {
      "needs_background": "light"
     },
     "output_type": "display_data"
    }
   ],
   "source": [
    "fig, axs = plt.subplots(2,2, figsize = (12,8))\n",
    "sns.boxplot(ax = axs[0,0], x = 'Age', data = df_us)\n",
    "sns.countplot(ax = axs[0,1], x = 'Sex', data = df_us)\n",
    "sns.countplot(ax = axs[1,0], x = 'Education', data = df_us)\n",
    "sns.countplot(ax = axs[1,1], x = 'Income', data = df_us)\n",
    "axs[1,0].tick_params(axis=\"x\", rotation=90)\n",
    "plt.title('Little Visualization of the dataset')"
   ]
  },
  {
   "cell_type": "code",
   "execution_count": 21,
   "id": "009d68d7",
   "metadata": {},
   "outputs": [],
   "source": [
    "le = LabelEncoder()"
   ]
  },
  {
   "cell_type": "code",
   "execution_count": 22,
   "id": "9ba37acd",
   "metadata": {},
   "outputs": [
    {
     "name": "stderr",
     "output_type": "stream",
     "text": [
      "C:\\Users\\user\\AppData\\Local\\Temp\\ipykernel_11764\\2183002084.py:2: SettingWithCopyWarning: \n",
      "A value is trying to be set on a copy of a slice from a DataFrame.\n",
      "Try using .loc[row_indexer,col_indexer] = value instead\n",
      "\n",
      "See the caveats in the documentation: https://pandas.pydata.org/pandas-docs/stable/user_guide/indexing.html#returning-a-view-versus-a-copy\n",
      "  df_us['Workclass_label'] = le.fit_transform(df_us['Workclass'])\n",
      "C:\\Users\\user\\AppData\\Local\\Temp\\ipykernel_11764\\2183002084.py:3: SettingWithCopyWarning: \n",
      "A value is trying to be set on a copy of a slice from a DataFrame.\n",
      "Try using .loc[row_indexer,col_indexer] = value instead\n",
      "\n",
      "See the caveats in the documentation: https://pandas.pydata.org/pandas-docs/stable/user_guide/indexing.html#returning-a-view-versus-a-copy\n",
      "  df_us['Education_label'] = le.fit_transform(df_us['Education'])\n",
      "C:\\Users\\user\\AppData\\Local\\Temp\\ipykernel_11764\\2183002084.py:4: SettingWithCopyWarning: \n",
      "A value is trying to be set on a copy of a slice from a DataFrame.\n",
      "Try using .loc[row_indexer,col_indexer] = value instead\n",
      "\n",
      "See the caveats in the documentation: https://pandas.pydata.org/pandas-docs/stable/user_guide/indexing.html#returning-a-view-versus-a-copy\n",
      "  df_us['Marital Status_label'] = le.fit_transform(df_us['Marital Status'])\n",
      "C:\\Users\\user\\AppData\\Local\\Temp\\ipykernel_11764\\2183002084.py:5: SettingWithCopyWarning: \n",
      "A value is trying to be set on a copy of a slice from a DataFrame.\n",
      "Try using .loc[row_indexer,col_indexer] = value instead\n",
      "\n",
      "See the caveats in the documentation: https://pandas.pydata.org/pandas-docs/stable/user_guide/indexing.html#returning-a-view-versus-a-copy\n",
      "  df_us['Occupation_label'] = le.fit_transform(df_us['Occupation'])\n",
      "C:\\Users\\user\\AppData\\Local\\Temp\\ipykernel_11764\\2183002084.py:6: SettingWithCopyWarning: \n",
      "A value is trying to be set on a copy of a slice from a DataFrame.\n",
      "Try using .loc[row_indexer,col_indexer] = value instead\n",
      "\n",
      "See the caveats in the documentation: https://pandas.pydata.org/pandas-docs/stable/user_guide/indexing.html#returning-a-view-versus-a-copy\n",
      "  df_us['Relationship_label'] = le.fit_transform(df_us['Relationship'])\n",
      "C:\\Users\\user\\AppData\\Local\\Temp\\ipykernel_11764\\2183002084.py:7: SettingWithCopyWarning: \n",
      "A value is trying to be set on a copy of a slice from a DataFrame.\n",
      "Try using .loc[row_indexer,col_indexer] = value instead\n",
      "\n",
      "See the caveats in the documentation: https://pandas.pydata.org/pandas-docs/stable/user_guide/indexing.html#returning-a-view-versus-a-copy\n",
      "  df_us['Race_label'] = le.fit_transform(df_us['Race'])\n",
      "C:\\Users\\user\\AppData\\Local\\Temp\\ipykernel_11764\\2183002084.py:8: SettingWithCopyWarning: \n",
      "A value is trying to be set on a copy of a slice from a DataFrame.\n",
      "Try using .loc[row_indexer,col_indexer] = value instead\n",
      "\n",
      "See the caveats in the documentation: https://pandas.pydata.org/pandas-docs/stable/user_guide/indexing.html#returning-a-view-versus-a-copy\n",
      "  df_us['Sex_label'] = le.fit_transform(df_us['Sex'])\n",
      "C:\\Users\\user\\AppData\\Local\\Temp\\ipykernel_11764\\2183002084.py:9: SettingWithCopyWarning: \n",
      "A value is trying to be set on a copy of a slice from a DataFrame.\n",
      "Try using .loc[row_indexer,col_indexer] = value instead\n",
      "\n",
      "See the caveats in the documentation: https://pandas.pydata.org/pandas-docs/stable/user_guide/indexing.html#returning-a-view-versus-a-copy\n",
      "  df_us['Income_label'] = le.fit_transform(df_us['Income'])\n"
     ]
    },
    {
     "data": {
      "text/html": [
       "<div>\n",
       "<style scoped>\n",
       "    .dataframe tbody tr th:only-of-type {\n",
       "        vertical-align: middle;\n",
       "    }\n",
       "\n",
       "    .dataframe tbody tr th {\n",
       "        vertical-align: top;\n",
       "    }\n",
       "\n",
       "    .dataframe thead th {\n",
       "        text-align: right;\n",
       "    }\n",
       "</style>\n",
       "<table border=\"1\" class=\"dataframe\">\n",
       "  <thead>\n",
       "    <tr style=\"text-align: right;\">\n",
       "      <th></th>\n",
       "      <th>Age</th>\n",
       "      <th>Workclass</th>\n",
       "      <th>Education</th>\n",
       "      <th>Marital Status</th>\n",
       "      <th>Occupation</th>\n",
       "      <th>Relationship</th>\n",
       "      <th>Race</th>\n",
       "      <th>Sex</th>\n",
       "      <th>hours-per-week</th>\n",
       "      <th>Income</th>\n",
       "      <th>Workclass_label</th>\n",
       "      <th>Education_label</th>\n",
       "      <th>Marital Status_label</th>\n",
       "      <th>Occupation_label</th>\n",
       "      <th>Relationship_label</th>\n",
       "      <th>Race_label</th>\n",
       "      <th>Sex_label</th>\n",
       "      <th>Income_label</th>\n",
       "    </tr>\n",
       "  </thead>\n",
       "  <tbody>\n",
       "    <tr>\n",
       "      <th>0</th>\n",
       "      <td>39</td>\n",
       "      <td>State-gov</td>\n",
       "      <td>Bachelors</td>\n",
       "      <td>Never-married</td>\n",
       "      <td>Adm-clerical</td>\n",
       "      <td>Not-in-family</td>\n",
       "      <td>White</td>\n",
       "      <td>Male</td>\n",
       "      <td>40</td>\n",
       "      <td>&lt;=50K</td>\n",
       "      <td>5</td>\n",
       "      <td>9</td>\n",
       "      <td>4</td>\n",
       "      <td>0</td>\n",
       "      <td>1</td>\n",
       "      <td>4</td>\n",
       "      <td>1</td>\n",
       "      <td>0</td>\n",
       "    </tr>\n",
       "    <tr>\n",
       "      <th>1</th>\n",
       "      <td>50</td>\n",
       "      <td>Self-emp-not-inc</td>\n",
       "      <td>Bachelors</td>\n",
       "      <td>Married-civ-spouse</td>\n",
       "      <td>Exec-managerial</td>\n",
       "      <td>Husband</td>\n",
       "      <td>White</td>\n",
       "      <td>Male</td>\n",
       "      <td>13</td>\n",
       "      <td>&lt;=50K</td>\n",
       "      <td>4</td>\n",
       "      <td>9</td>\n",
       "      <td>2</td>\n",
       "      <td>3</td>\n",
       "      <td>0</td>\n",
       "      <td>4</td>\n",
       "      <td>1</td>\n",
       "      <td>0</td>\n",
       "    </tr>\n",
       "    <tr>\n",
       "      <th>2</th>\n",
       "      <td>38</td>\n",
       "      <td>Private</td>\n",
       "      <td>HS-grad</td>\n",
       "      <td>Divorced</td>\n",
       "      <td>Handlers-cleaners</td>\n",
       "      <td>Not-in-family</td>\n",
       "      <td>White</td>\n",
       "      <td>Male</td>\n",
       "      <td>40</td>\n",
       "      <td>&lt;=50K</td>\n",
       "      <td>2</td>\n",
       "      <td>11</td>\n",
       "      <td>0</td>\n",
       "      <td>5</td>\n",
       "      <td>1</td>\n",
       "      <td>4</td>\n",
       "      <td>1</td>\n",
       "      <td>0</td>\n",
       "    </tr>\n",
       "    <tr>\n",
       "      <th>3</th>\n",
       "      <td>53</td>\n",
       "      <td>Private</td>\n",
       "      <td>11th</td>\n",
       "      <td>Married-civ-spouse</td>\n",
       "      <td>Handlers-cleaners</td>\n",
       "      <td>Husband</td>\n",
       "      <td>Black</td>\n",
       "      <td>Male</td>\n",
       "      <td>40</td>\n",
       "      <td>&lt;=50K</td>\n",
       "      <td>2</td>\n",
       "      <td>1</td>\n",
       "      <td>2</td>\n",
       "      <td>5</td>\n",
       "      <td>0</td>\n",
       "      <td>2</td>\n",
       "      <td>1</td>\n",
       "      <td>0</td>\n",
       "    </tr>\n",
       "    <tr>\n",
       "      <th>5</th>\n",
       "      <td>37</td>\n",
       "      <td>Private</td>\n",
       "      <td>Masters</td>\n",
       "      <td>Married-civ-spouse</td>\n",
       "      <td>Exec-managerial</td>\n",
       "      <td>Wife</td>\n",
       "      <td>White</td>\n",
       "      <td>Female</td>\n",
       "      <td>40</td>\n",
       "      <td>&lt;=50K</td>\n",
       "      <td>2</td>\n",
       "      <td>12</td>\n",
       "      <td>2</td>\n",
       "      <td>3</td>\n",
       "      <td>5</td>\n",
       "      <td>4</td>\n",
       "      <td>0</td>\n",
       "      <td>0</td>\n",
       "    </tr>\n",
       "    <tr>\n",
       "      <th>...</th>\n",
       "      <td>...</td>\n",
       "      <td>...</td>\n",
       "      <td>...</td>\n",
       "      <td>...</td>\n",
       "      <td>...</td>\n",
       "      <td>...</td>\n",
       "      <td>...</td>\n",
       "      <td>...</td>\n",
       "      <td>...</td>\n",
       "      <td>...</td>\n",
       "      <td>...</td>\n",
       "      <td>...</td>\n",
       "      <td>...</td>\n",
       "      <td>...</td>\n",
       "      <td>...</td>\n",
       "      <td>...</td>\n",
       "      <td>...</td>\n",
       "      <td>...</td>\n",
       "    </tr>\n",
       "    <tr>\n",
       "      <th>32556</th>\n",
       "      <td>27</td>\n",
       "      <td>Private</td>\n",
       "      <td>Assoc-acdm</td>\n",
       "      <td>Married-civ-spouse</td>\n",
       "      <td>Tech-support</td>\n",
       "      <td>Wife</td>\n",
       "      <td>White</td>\n",
       "      <td>Female</td>\n",
       "      <td>38</td>\n",
       "      <td>&lt;=50K</td>\n",
       "      <td>2</td>\n",
       "      <td>7</td>\n",
       "      <td>2</td>\n",
       "      <td>12</td>\n",
       "      <td>5</td>\n",
       "      <td>4</td>\n",
       "      <td>0</td>\n",
       "      <td>0</td>\n",
       "    </tr>\n",
       "    <tr>\n",
       "      <th>32557</th>\n",
       "      <td>40</td>\n",
       "      <td>Private</td>\n",
       "      <td>HS-grad</td>\n",
       "      <td>Married-civ-spouse</td>\n",
       "      <td>Machine-op-inspct</td>\n",
       "      <td>Husband</td>\n",
       "      <td>White</td>\n",
       "      <td>Male</td>\n",
       "      <td>40</td>\n",
       "      <td>&gt;50K</td>\n",
       "      <td>2</td>\n",
       "      <td>11</td>\n",
       "      <td>2</td>\n",
       "      <td>6</td>\n",
       "      <td>0</td>\n",
       "      <td>4</td>\n",
       "      <td>1</td>\n",
       "      <td>1</td>\n",
       "    </tr>\n",
       "    <tr>\n",
       "      <th>32558</th>\n",
       "      <td>58</td>\n",
       "      <td>Private</td>\n",
       "      <td>HS-grad</td>\n",
       "      <td>Widowed</td>\n",
       "      <td>Adm-clerical</td>\n",
       "      <td>Unmarried</td>\n",
       "      <td>White</td>\n",
       "      <td>Female</td>\n",
       "      <td>40</td>\n",
       "      <td>&lt;=50K</td>\n",
       "      <td>2</td>\n",
       "      <td>11</td>\n",
       "      <td>6</td>\n",
       "      <td>0</td>\n",
       "      <td>4</td>\n",
       "      <td>4</td>\n",
       "      <td>0</td>\n",
       "      <td>0</td>\n",
       "    </tr>\n",
       "    <tr>\n",
       "      <th>32559</th>\n",
       "      <td>22</td>\n",
       "      <td>Private</td>\n",
       "      <td>HS-grad</td>\n",
       "      <td>Never-married</td>\n",
       "      <td>Adm-clerical</td>\n",
       "      <td>Own-child</td>\n",
       "      <td>White</td>\n",
       "      <td>Male</td>\n",
       "      <td>20</td>\n",
       "      <td>&lt;=50K</td>\n",
       "      <td>2</td>\n",
       "      <td>11</td>\n",
       "      <td>4</td>\n",
       "      <td>0</td>\n",
       "      <td>3</td>\n",
       "      <td>4</td>\n",
       "      <td>1</td>\n",
       "      <td>0</td>\n",
       "    </tr>\n",
       "    <tr>\n",
       "      <th>32560</th>\n",
       "      <td>52</td>\n",
       "      <td>Self-emp-inc</td>\n",
       "      <td>HS-grad</td>\n",
       "      <td>Married-civ-spouse</td>\n",
       "      <td>Exec-managerial</td>\n",
       "      <td>Wife</td>\n",
       "      <td>White</td>\n",
       "      <td>Female</td>\n",
       "      <td>40</td>\n",
       "      <td>&gt;50K</td>\n",
       "      <td>3</td>\n",
       "      <td>11</td>\n",
       "      <td>2</td>\n",
       "      <td>3</td>\n",
       "      <td>5</td>\n",
       "      <td>4</td>\n",
       "      <td>0</td>\n",
       "      <td>1</td>\n",
       "    </tr>\n",
       "  </tbody>\n",
       "</table>\n",
       "<p>27504 rows × 18 columns</p>\n",
       "</div>"
      ],
      "text/plain": [
       "       Age          Workclass    Education       Marital Status  \\\n",
       "0       39          State-gov    Bachelors        Never-married   \n",
       "1       50   Self-emp-not-inc    Bachelors   Married-civ-spouse   \n",
       "2       38            Private      HS-grad             Divorced   \n",
       "3       53            Private         11th   Married-civ-spouse   \n",
       "5       37            Private      Masters   Married-civ-spouse   \n",
       "...    ...                ...          ...                  ...   \n",
       "32556   27            Private   Assoc-acdm   Married-civ-spouse   \n",
       "32557   40            Private      HS-grad   Married-civ-spouse   \n",
       "32558   58            Private      HS-grad              Widowed   \n",
       "32559   22            Private      HS-grad        Never-married   \n",
       "32560   52       Self-emp-inc      HS-grad   Married-civ-spouse   \n",
       "\n",
       "               Occupation    Relationship    Race      Sex  hours-per-week  \\\n",
       "0            Adm-clerical   Not-in-family   White     Male              40   \n",
       "1         Exec-managerial         Husband   White     Male              13   \n",
       "2       Handlers-cleaners   Not-in-family   White     Male              40   \n",
       "3       Handlers-cleaners         Husband   Black     Male              40   \n",
       "5         Exec-managerial            Wife   White   Female              40   \n",
       "...                   ...             ...     ...      ...             ...   \n",
       "32556        Tech-support            Wife   White   Female              38   \n",
       "32557   Machine-op-inspct         Husband   White     Male              40   \n",
       "32558        Adm-clerical       Unmarried   White   Female              40   \n",
       "32559        Adm-clerical       Own-child   White     Male              20   \n",
       "32560     Exec-managerial            Wife   White   Female              40   \n",
       "\n",
       "       Income  Workclass_label  Education_label  Marital Status_label  \\\n",
       "0       <=50K                5                9                     4   \n",
       "1       <=50K                4                9                     2   \n",
       "2       <=50K                2               11                     0   \n",
       "3       <=50K                2                1                     2   \n",
       "5       <=50K                2               12                     2   \n",
       "...       ...              ...              ...                   ...   \n",
       "32556   <=50K                2                7                     2   \n",
       "32557    >50K                2               11                     2   \n",
       "32558   <=50K                2               11                     6   \n",
       "32559   <=50K                2               11                     4   \n",
       "32560    >50K                3               11                     2   \n",
       "\n",
       "       Occupation_label  Relationship_label  Race_label  Sex_label  \\\n",
       "0                     0                   1           4          1   \n",
       "1                     3                   0           4          1   \n",
       "2                     5                   1           4          1   \n",
       "3                     5                   0           2          1   \n",
       "5                     3                   5           4          0   \n",
       "...                 ...                 ...         ...        ...   \n",
       "32556                12                   5           4          0   \n",
       "32557                 6                   0           4          1   \n",
       "32558                 0                   4           4          0   \n",
       "32559                 0                   3           4          1   \n",
       "32560                 3                   5           4          0   \n",
       "\n",
       "       Income_label  \n",
       "0                 0  \n",
       "1                 0  \n",
       "2                 0  \n",
       "3                 0  \n",
       "5                 0  \n",
       "...             ...  \n",
       "32556             0  \n",
       "32557             1  \n",
       "32558             0  \n",
       "32559             0  \n",
       "32560             1  \n",
       "\n",
       "[27504 rows x 18 columns]"
      ]
     },
     "execution_count": 22,
     "metadata": {},
     "output_type": "execute_result"
    }
   ],
   "source": [
    " # Age\tWorkclass\tEducation\tMarital Status\tOccupation\tRelationship\tRace\tSex\n",
    "df_us['Workclass_label'] = le.fit_transform(df_us['Workclass'])\n",
    "df_us['Education_label'] = le.fit_transform(df_us['Education'])\n",
    "df_us['Marital Status_label'] = le.fit_transform(df_us['Marital Status'])\n",
    "df_us['Occupation_label'] = le.fit_transform(df_us['Occupation'])\n",
    "df_us['Relationship_label'] = le.fit_transform(df_us['Relationship'])\n",
    "df_us['Race_label'] = le.fit_transform(df_us['Race'])\n",
    "df_us['Sex_label'] = le.fit_transform(df_us['Sex'])\n",
    "df_us['Income_label'] = le.fit_transform(df_us['Income'])\n",
    "df_us"
   ]
  },
  {
   "cell_type": "code",
   "execution_count": 23,
   "id": "656e89a7",
   "metadata": {},
   "outputs": [
    {
     "data": {
      "text/plain": [
       "{0: ' <=50K', 1: ' >50K'}"
      ]
     },
     "execution_count": 23,
     "metadata": {},
     "output_type": "execute_result"
    }
   ],
   "source": [
    " lookup_Workclass_name = dict(zip(df_us.Workclass_label.unique(), df_us.Workclass.unique()))\n",
    "lookup_Education_name = dict(zip(df_us.Education_label.unique(), df_us.Education.unique()))\n",
    "lookup_Marital_Status_name = dict(zip(df_us['Marital Status_label'].unique(), df_us['Marital Status'].unique())) \n",
    "lookup_Occupation_name = dict(zip(df_us.Occupation_label.unique(), df_us.Occupation.unique()))\n",
    "lookup_Relationship_name = dict(zip(df_us.Relationship_label.unique(), df_us.Relationship.unique()))\n",
    "lookup_Race_name = dict(zip(df_us.Race_label.unique(), df_us.Race.unique())) \n",
    "lookup_Sex_name = dict(zip(df_us.Sex_label.unique(), df_us.Sex.unique()))\n",
    "lookup_Income_name = dict(zip(df_us.Income_label.unique(), df_us.Income.unique()))\n",
    "lookup_Income_name"
   ]
  },
  {
   "cell_type": "code",
   "execution_count": 24,
   "id": "fef9d04a",
   "metadata": {},
   "outputs": [],
   "source": [
    "columns_to_drop = ['Workclass', 'Education', 'Marital Status', 'Occupation', 'Relationship', 'Race', 'Sex', 'Income']"
   ]
  },
  {
   "cell_type": "code",
   "execution_count": 25,
   "id": "86c17be2",
   "metadata": {},
   "outputs": [
    {
     "data": {
      "text/html": [
       "<div>\n",
       "<style scoped>\n",
       "    .dataframe tbody tr th:only-of-type {\n",
       "        vertical-align: middle;\n",
       "    }\n",
       "\n",
       "    .dataframe tbody tr th {\n",
       "        vertical-align: top;\n",
       "    }\n",
       "\n",
       "    .dataframe thead th {\n",
       "        text-align: right;\n",
       "    }\n",
       "</style>\n",
       "<table border=\"1\" class=\"dataframe\">\n",
       "  <thead>\n",
       "    <tr style=\"text-align: right;\">\n",
       "      <th></th>\n",
       "      <th>Age</th>\n",
       "      <th>hours-per-week</th>\n",
       "      <th>Workclass_label</th>\n",
       "      <th>Education_label</th>\n",
       "      <th>Marital Status_label</th>\n",
       "      <th>Occupation_label</th>\n",
       "      <th>Relationship_label</th>\n",
       "      <th>Race_label</th>\n",
       "      <th>Sex_label</th>\n",
       "      <th>Income_label</th>\n",
       "    </tr>\n",
       "  </thead>\n",
       "  <tbody>\n",
       "    <tr>\n",
       "      <th>0</th>\n",
       "      <td>39</td>\n",
       "      <td>40</td>\n",
       "      <td>5</td>\n",
       "      <td>9</td>\n",
       "      <td>4</td>\n",
       "      <td>0</td>\n",
       "      <td>1</td>\n",
       "      <td>4</td>\n",
       "      <td>1</td>\n",
       "      <td>0</td>\n",
       "    </tr>\n",
       "    <tr>\n",
       "      <th>1</th>\n",
       "      <td>50</td>\n",
       "      <td>13</td>\n",
       "      <td>4</td>\n",
       "      <td>9</td>\n",
       "      <td>2</td>\n",
       "      <td>3</td>\n",
       "      <td>0</td>\n",
       "      <td>4</td>\n",
       "      <td>1</td>\n",
       "      <td>0</td>\n",
       "    </tr>\n",
       "    <tr>\n",
       "      <th>2</th>\n",
       "      <td>38</td>\n",
       "      <td>40</td>\n",
       "      <td>2</td>\n",
       "      <td>11</td>\n",
       "      <td>0</td>\n",
       "      <td>5</td>\n",
       "      <td>1</td>\n",
       "      <td>4</td>\n",
       "      <td>1</td>\n",
       "      <td>0</td>\n",
       "    </tr>\n",
       "    <tr>\n",
       "      <th>3</th>\n",
       "      <td>53</td>\n",
       "      <td>40</td>\n",
       "      <td>2</td>\n",
       "      <td>1</td>\n",
       "      <td>2</td>\n",
       "      <td>5</td>\n",
       "      <td>0</td>\n",
       "      <td>2</td>\n",
       "      <td>1</td>\n",
       "      <td>0</td>\n",
       "    </tr>\n",
       "    <tr>\n",
       "      <th>5</th>\n",
       "      <td>37</td>\n",
       "      <td>40</td>\n",
       "      <td>2</td>\n",
       "      <td>12</td>\n",
       "      <td>2</td>\n",
       "      <td>3</td>\n",
       "      <td>5</td>\n",
       "      <td>4</td>\n",
       "      <td>0</td>\n",
       "      <td>0</td>\n",
       "    </tr>\n",
       "    <tr>\n",
       "      <th>...</th>\n",
       "      <td>...</td>\n",
       "      <td>...</td>\n",
       "      <td>...</td>\n",
       "      <td>...</td>\n",
       "      <td>...</td>\n",
       "      <td>...</td>\n",
       "      <td>...</td>\n",
       "      <td>...</td>\n",
       "      <td>...</td>\n",
       "      <td>...</td>\n",
       "    </tr>\n",
       "    <tr>\n",
       "      <th>32556</th>\n",
       "      <td>27</td>\n",
       "      <td>38</td>\n",
       "      <td>2</td>\n",
       "      <td>7</td>\n",
       "      <td>2</td>\n",
       "      <td>12</td>\n",
       "      <td>5</td>\n",
       "      <td>4</td>\n",
       "      <td>0</td>\n",
       "      <td>0</td>\n",
       "    </tr>\n",
       "    <tr>\n",
       "      <th>32557</th>\n",
       "      <td>40</td>\n",
       "      <td>40</td>\n",
       "      <td>2</td>\n",
       "      <td>11</td>\n",
       "      <td>2</td>\n",
       "      <td>6</td>\n",
       "      <td>0</td>\n",
       "      <td>4</td>\n",
       "      <td>1</td>\n",
       "      <td>1</td>\n",
       "    </tr>\n",
       "    <tr>\n",
       "      <th>32558</th>\n",
       "      <td>58</td>\n",
       "      <td>40</td>\n",
       "      <td>2</td>\n",
       "      <td>11</td>\n",
       "      <td>6</td>\n",
       "      <td>0</td>\n",
       "      <td>4</td>\n",
       "      <td>4</td>\n",
       "      <td>0</td>\n",
       "      <td>0</td>\n",
       "    </tr>\n",
       "    <tr>\n",
       "      <th>32559</th>\n",
       "      <td>22</td>\n",
       "      <td>20</td>\n",
       "      <td>2</td>\n",
       "      <td>11</td>\n",
       "      <td>4</td>\n",
       "      <td>0</td>\n",
       "      <td>3</td>\n",
       "      <td>4</td>\n",
       "      <td>1</td>\n",
       "      <td>0</td>\n",
       "    </tr>\n",
       "    <tr>\n",
       "      <th>32560</th>\n",
       "      <td>52</td>\n",
       "      <td>40</td>\n",
       "      <td>3</td>\n",
       "      <td>11</td>\n",
       "      <td>2</td>\n",
       "      <td>3</td>\n",
       "      <td>5</td>\n",
       "      <td>4</td>\n",
       "      <td>0</td>\n",
       "      <td>1</td>\n",
       "    </tr>\n",
       "  </tbody>\n",
       "</table>\n",
       "<p>27504 rows × 10 columns</p>\n",
       "</div>"
      ],
      "text/plain": [
       "       Age  hours-per-week  Workclass_label  Education_label  \\\n",
       "0       39              40                5                9   \n",
       "1       50              13                4                9   \n",
       "2       38              40                2               11   \n",
       "3       53              40                2                1   \n",
       "5       37              40                2               12   \n",
       "...    ...             ...              ...              ...   \n",
       "32556   27              38                2                7   \n",
       "32557   40              40                2               11   \n",
       "32558   58              40                2               11   \n",
       "32559   22              20                2               11   \n",
       "32560   52              40                3               11   \n",
       "\n",
       "       Marital Status_label  Occupation_label  Relationship_label  Race_label  \\\n",
       "0                         4                 0                   1           4   \n",
       "1                         2                 3                   0           4   \n",
       "2                         0                 5                   1           4   \n",
       "3                         2                 5                   0           2   \n",
       "5                         2                 3                   5           4   \n",
       "...                     ...               ...                 ...         ...   \n",
       "32556                     2                12                   5           4   \n",
       "32557                     2                 6                   0           4   \n",
       "32558                     6                 0                   4           4   \n",
       "32559                     4                 0                   3           4   \n",
       "32560                     2                 3                   5           4   \n",
       "\n",
       "       Sex_label  Income_label  \n",
       "0              1             0  \n",
       "1              1             0  \n",
       "2              1             0  \n",
       "3              1             0  \n",
       "5              0             0  \n",
       "...          ...           ...  \n",
       "32556          0             0  \n",
       "32557          1             1  \n",
       "32558          0             0  \n",
       "32559          1             0  \n",
       "32560          0             1  \n",
       "\n",
       "[27504 rows x 10 columns]"
      ]
     },
     "execution_count": 25,
     "metadata": {},
     "output_type": "execute_result"
    }
   ],
   "source": [
    "df_us = df_us.drop(columns=columns_to_drop)\n",
    "df_us"
   ]
  },
  {
   "cell_type": "code",
   "execution_count": 26,
   "id": "3d8f8694",
   "metadata": {},
   "outputs": [
    {
     "data": {
      "text/plain": [
       "Text(0.5, 1.0, 'Correlation among the variables')"
      ]
     },
     "execution_count": 26,
     "metadata": {},
     "output_type": "execute_result"
    },
    {
     "data": {
      "image/png": "[encoded data removed]",
      "text/plain": [
       "<Figure size 720x432 with 2 Axes>"
      ]
     },
     "metadata": {
      "needs_background": "light"
     },
     "output_type": "display_data"
    }
   ],
   "source": [
    "plt.figure(figsize=(10,6))\n",
    "sns.heatmap(df_us.corr(), annot=True).set_title('Correlation among the variables')"
   ]
  },
  {
   "cell_type": "code",
   "execution_count": 27,
   "id": "cc540630",
   "metadata": {
    "scrolled": false
   },
   "outputs": [
    {
     "data": {
      "text/plain": [
       "<seaborn.axisgrid.FacetGrid at 0x1941c0ac8b0>"
      ]
     },
     "execution_count": 27,
     "metadata": {},
     "output_type": "execute_result"
    },
    {
     "data": {
      "text/plain": [
       "<Figure size 432x288 with 0 Axes>"
      ]
     },
     "metadata": {},
     "output_type": "display_data"
    },
    {
     "data": {
      "image/png": "[encoded data removed]",
      "text/plain": [
       "<Figure size 793.75x1800 with 10 Axes>"
      ]
     },
     "metadata": {
      "needs_background": "light"
     },
     "output_type": "display_data"
    }
   ],
   "source": [
    "plt.figure()\n",
    "sns.relplot(x='Age', y='hours-per-week', data=df_us, kind='scatter', col='Sex_label', row='Race_label', hue='Income_label', size=1)"
   ]
  },
  {
   "cell_type": "code",
   "execution_count": 28,
   "id": "12217b74",
   "metadata": {
    "scrolled": true
   },
   "outputs": [
    {
     "data": {
      "text/plain": [
       "array([[39, 40,  5, ...,  1,  4,  1],\n",
       "       [50, 13,  4, ...,  0,  4,  1],\n",
       "       [38, 40,  2, ...,  1,  4,  1],\n",
       "       ...,\n",
       "       [58, 40,  2, ...,  4,  4,  0],\n",
       "       [22, 20,  2, ...,  3,  4,  1],\n",
       "       [52, 40,  3, ...,  5,  4,  0]], dtype=int64)"
      ]
     },
     "execution_count": 28,
     "metadata": {},
     "output_type": "execute_result"
    }
   ],
   "source": [
    "X = df_us.drop(columns=['Income_label']).values\n",
    "X"
   ]
  },
  {
   "cell_type": "code",
   "execution_count": 29,
   "id": "3df1367e",
   "metadata": {},
   "outputs": [
    {
     "data": {
      "text/plain": [
       "array([[0],\n",
       "       [0],\n",
       "       [0],\n",
       "       ...,\n",
       "       [0],\n",
       "       [0],\n",
       "       [1]])"
      ]
     },
     "execution_count": 29,
     "metadata": {},
     "output_type": "execute_result"
    }
   ],
   "source": [
    "y = df_us[['Income_label']].values\n",
    "y"
   ]
  },
  {
   "cell_type": "code",
   "execution_count": 30,
   "id": "55a42300",
   "metadata": {},
   "outputs": [],
   "source": [
    "X_train, X_test, y_train, y_test = train_test_split(X,y, test_size=0.25, random_state = 0)"
   ]
  },
  {
   "cell_type": "markdown",
   "id": "bb0a7d12",
   "metadata": {},
   "source": [
    "## Design Goal\n",
    "This model is mainly interested in accuracy, hence the model eveluation is based on its accuracy."
   ]
  },
  {
   "cell_type": "markdown",
   "id": "ef222031",
   "metadata": {},
   "source": [
    "### Select optimal hyperparameters to give best accuracy for the selected models"
   ]
  },
  {
   "cell_type": "code",
   "execution_count": 31,
   "id": "3c3d8d2f",
   "metadata": {},
   "outputs": [],
   "source": [
    "models_list = [KNeighborsClassifier(), DecisionTreeClassifier(), RandomForestClassifier()]"
   ]
  },
  {
   "cell_type": "code",
   "execution_count": 32,
   "id": "9e5a31ac",
   "metadata": {},
   "outputs": [],
   "source": [
    "model_hyperparameters = {\n",
    "    \n",
    "    'KNN_hyp' : {\n",
    "        'n_neighbors' : [8,10,12,14]\n",
    "    },\n",
    "    'dec_tree_hyp' : {\n",
    "        'max_depth' : [6,8,9,10],\n",
    "    },\n",
    "#     'svc_hyp' : {\n",
    "#         'C' : [5,10,20,50,100],\n",
    "#         'gamma': [0.10, 1.00,10.00,20.00]\n",
    "#     }\n",
    "#     ,\n",
    "    'random_forest_hyp' : {\n",
    "        'n_estimators' : [500, 600,700,800],\n",
    "        'max_features' : [2,3]\n",
    "    }\n",
    "}"
   ]
  },
  {
   "cell_type": "code",
   "execution_count": 33,
   "id": "ec2d479e",
   "metadata": {},
   "outputs": [
    {
     "name": "stdout",
     "output_type": "stream",
     "text": [
      "['KNN_hyp', 'dec_tree_hyp', 'random_forest_hyp']\n"
     ]
    }
   ],
   "source": [
    "model_keys= list(model_hyperparameters.keys())\n",
    "print(model_keys)"
   ]
  },
  {
   "cell_type": "code",
   "execution_count": 34,
   "id": "8a08eab1",
   "metadata": {},
   "outputs": [],
   "source": [
    "def model_selection(list_of_models,hyperparametrs_dictionary):\n",
    "    \n",
    "    result = []\n",
    "    i = 0\n",
    "    \n",
    "    for model in list_of_models:\n",
    "        key = model_keys[i]\n",
    "        params = hyperparametrs_dictionary[key]\n",
    "        i+=1\n",
    "        \n",
    "        print(model)\n",
    "        print(params)\n",
    "        print('---------------------------------------------')\n",
    "        \n",
    "        classifier = GridSearchCV(model, params, cv=5)\n",
    "        \n",
    "        # fitting the data to classifier\n",
    "        \n",
    "        classifier.fit(X,y.ravel())\n",
    "        result.append({\n",
    "            'model used': model,\n",
    "            'highest score' : classifier.best_score_,\n",
    "            'best hyperparameters': classifier.best_params_\n",
    "        })\n",
    "        \n",
    "    result_dataframe = pd.DataFrame(result, columns=['model used', 'highest score', 'best hyperparameters'])\n",
    "\n",
    "    return result_dataframe"
   ]
  },
  {
   "cell_type": "code",
   "execution_count": 35,
   "id": "b0d09f18",
   "metadata": {},
   "outputs": [
    {
     "name": "stdout",
     "output_type": "stream",
     "text": [
      "KNeighborsClassifier()\n",
      "{'n_neighbors': [8, 10, 12, 14]}\n",
      "---------------------------------------------\n",
      "DecisionTreeClassifier()\n",
      "{'max_depth': [6, 8, 9, 10]}\n",
      "---------------------------------------------\n",
      "RandomForestClassifier()\n",
      "{'n_estimators': [500, 600, 700, 800], 'max_features': [2, 3]}\n",
      "---------------------------------------------\n"
     ]
    },
    {
     "data": {
      "text/html": [
       "<div>\n",
       "<style scoped>\n",
       "    .dataframe tbody tr th:only-of-type {\n",
       "        vertical-align: middle;\n",
       "    }\n",
       "\n",
       "    .dataframe tbody tr th {\n",
       "        vertical-align: top;\n",
       "    }\n",
       "\n",
       "    .dataframe thead th {\n",
       "        text-align: right;\n",
       "    }\n",
       "</style>\n",
       "<table border=\"1\" class=\"dataframe\">\n",
       "  <thead>\n",
       "    <tr style=\"text-align: right;\">\n",
       "      <th></th>\n",
       "      <th>model used</th>\n",
       "      <th>highest score</th>\n",
       "      <th>best hyperparameters</th>\n",
       "    </tr>\n",
       "  </thead>\n",
       "  <tbody>\n",
       "    <tr>\n",
       "      <th>0</th>\n",
       "      <td>KNeighborsClassifier()</td>\n",
       "      <td>0.790976</td>\n",
       "      <td>{'n_neighbors': 12}</td>\n",
       "    </tr>\n",
       "    <tr>\n",
       "      <th>1</th>\n",
       "      <td>DecisionTreeClassifier()</td>\n",
       "      <td>0.820099</td>\n",
       "      <td>{'max_depth': 8}</td>\n",
       "    </tr>\n",
       "    <tr>\n",
       "      <th>2</th>\n",
       "      <td>RandomForestClassifier()</td>\n",
       "      <td>0.813373</td>\n",
       "      <td>{'max_features': 2, 'n_estimators': 800}</td>\n",
       "    </tr>\n",
       "  </tbody>\n",
       "</table>\n",
       "</div>"
      ],
      "text/plain": [
       "                 model used  highest score  \\\n",
       "0    KNeighborsClassifier()       0.790976   \n",
       "1  DecisionTreeClassifier()       0.820099   \n",
       "2  RandomForestClassifier()       0.813373   \n",
       "\n",
       "                       best hyperparameters  \n",
       "0                       {'n_neighbors': 12}  \n",
       "1                          {'max_depth': 8}  \n",
       "2  {'max_features': 2, 'n_estimators': 800}  "
      ]
     },
     "execution_count": 35,
     "metadata": {},
     "output_type": "execute_result"
    }
   ],
   "source": [
    "model_selection(models_list, model_hyperparameters)"
   ]
  },
  {
   "cell_type": "markdown",
   "id": "9d174ce9",
   "metadata": {},
   "source": [
    "## USING KNEIGHBORS CLASSIFIER"
   ]
  },
  {
   "cell_type": "code",
   "execution_count": 37,
   "id": "f053bdb5",
   "metadata": {},
   "outputs": [],
   "source": [
    "knc = KNeighborsClassifier(n_neighbors = 12).fit(X_train, y_train.ravel())"
   ]
  },
  {
   "cell_type": "code",
   "execution_count": 38,
   "id": "ad1a488e",
   "metadata": {},
   "outputs": [],
   "source": [
    "knc_pred = knc.predict(X_test)"
   ]
  },
  {
   "cell_type": "code",
   "execution_count": 39,
   "id": "a2a2ff07",
   "metadata": {},
   "outputs": [
    {
     "name": "stdout",
     "output_type": "stream",
     "text": [
      "R-squared test score: 0.792\n"
     ]
    }
   ],
   "source": [
    "print('R-squared test score: {:.3f}'\n",
    "     .format(knc.score(X_test, y_test)))"
   ]
  },
  {
   "cell_type": "code",
   "execution_count": 40,
   "id": "259fa242",
   "metadata": {
    "scrolled": true
   },
   "outputs": [
    {
     "name": "stdout",
     "output_type": "stream",
     "text": [
      "R-squared test score: 0.821\n"
     ]
    }
   ],
   "source": [
    "print('R-squared test score: {:.3f}'\n",
    "     .format(knc.score(X_train, y_train)))"
   ]
  },
  {
   "cell_type": "code",
   "execution_count": 41,
   "id": "74d74a76",
   "metadata": {},
   "outputs": [
    {
     "name": "stdout",
     "output_type": "stream",
     "text": [
      "Cross-validation scores (3-fold): [0.77968977 0.78889966 0.7809016  0.78569697 0.77890909]\n",
      "Mean cross-validation score (3-fold): 0.783\n"
     ]
    }
   ],
   "source": [
    "cv_scores = cross_val_score(knc,X_train, y_train.ravel())\n",
    "\n",
    "print('Cross-validation scores (3-fold):', cv_scores)\n",
    "print('Mean cross-validation score (3-fold): {:.3f}'\n",
    "     .format(np.mean(cv_scores)))"
   ]
  },
  {
   "cell_type": "markdown",
   "id": "38949c27",
   "metadata": {},
   "source": [
    "## Dummy Classifier result"
   ]
  },
  {
   "cell_type": "code",
   "execution_count": 42,
   "id": "8b5eb7eb",
   "metadata": {},
   "outputs": [
    {
     "data": {
      "text/plain": [
       "array([0, 0, 0, ..., 0, 0, 0])"
      ]
     },
     "execution_count": 42,
     "metadata": {},
     "output_type": "execute_result"
    }
   ],
   "source": [
    "# Negative class (0) is most frequent\n",
    "dummy_majority = DummyClassifier(strategy = 'most_frequent').fit(X_train, y_train)\n",
    "# Therefore the dummy 'most_frequent' classifier always predicts class 0\n",
    "y_dummy_predictions = dummy_majority.predict(X_test)\n",
    "\n",
    "y_dummy_predictions"
   ]
  },
  {
   "cell_type": "code",
   "execution_count": 43,
   "id": "803bf190",
   "metadata": {},
   "outputs": [
    {
     "data": {
      "text/plain": [
       "0.7427283304246655"
      ]
     },
     "execution_count": 43,
     "metadata": {},
     "output_type": "execute_result"
    }
   ],
   "source": [
    "dummy_majority.score(X_test, y_test)"
   ]
  },
  {
   "cell_type": "code",
   "execution_count": 44,
   "id": "22e44756",
   "metadata": {},
   "outputs": [
    {
     "name": "stdout",
     "output_type": "stream",
     "text": [
      "Most frequent class (dummy classifier)\n",
      " [[5107    0]\n",
      " [1769    0]]\n"
     ]
    }
   ],
   "source": [
    "y_majority_predicted = dummy_majority.predict(X_test)\n",
    "dum_confusion = confusion_matrix(y_test, y_majority_predicted)\n",
    "\n",
    "print('Most frequent class (dummy classifier)\\n', dum_confusion)"
   ]
  },
  {
   "cell_type": "markdown",
   "id": "0ad2382e",
   "metadata": {},
   "source": [
    "### KNEIGHBORS Evaluation"
   ]
  },
  {
   "cell_type": "code",
   "execution_count": 45,
   "id": "636448b6",
   "metadata": {},
   "outputs": [
    {
     "name": "stdout",
     "output_type": "stream",
     "text": [
      "KNN Classifier result \n",
      " [[4600  507]\n",
      " [ 920  849]]\n"
     ]
    }
   ],
   "source": [
    "knc_confusion = confusion_matrix(y_test, knc_pred)\n",
    "\n",
    "print('KNN Classifier result \\n', knc_confusion)"
   ]
  },
  {
   "cell_type": "code",
   "execution_count": 46,
   "id": "fb7d9537",
   "metadata": {},
   "outputs": [
    {
     "name": "stdout",
     "output_type": "stream",
     "text": [
      "Accuracy: 0.79\n",
      "Precision: 0.63\n",
      "Recall: 0.48\n",
      "F1: 0.54\n"
     ]
    }
   ],
   "source": [
    "print('Accuracy: {:.2f}'.format(accuracy_score(y_test, knc_pred)))\n",
    "print('Precision: {:.2f}'.format(precision_score(y_test, knc_pred)))\n",
    "print('Recall: {:.2f}'.format(recall_score(y_test, knc_pred)))\n",
    "print('F1: {:.2f}'.format(f1_score(y_test, knc_pred)))"
   ]
  },
  {
   "cell_type": "markdown",
   "id": "27c7ed46",
   "metadata": {},
   "source": [
    "## Decision tree classification"
   ]
  },
  {
   "cell_type": "code",
   "execution_count": 47,
   "id": "c626ae24",
   "metadata": {},
   "outputs": [],
   "source": [
    "dtc = DecisionTreeClassifier(max_depth = 8).fit(X_train, y_train.ravel())"
   ]
  },
  {
   "cell_type": "code",
   "execution_count": 48,
   "id": "2345c127",
   "metadata": {},
   "outputs": [],
   "source": [
    "dtc_predicted = dtc.predict(X_test)"
   ]
  },
  {
   "cell_type": "markdown",
   "id": "d9960039",
   "metadata": {},
   "source": [
    "### Decision tree evaluation"
   ]
  },
  {
   "cell_type": "code",
   "execution_count": 49,
   "id": "d71d049e",
   "metadata": {},
   "outputs": [
    {
     "name": "stdout",
     "output_type": "stream",
     "text": [
      "Decission tree classifier (max_dept : 8)\n",
      " [[4683  424]\n",
      " [ 803  966]]\n"
     ]
    },
    {
     "data": {
      "text/plain": [
       "0.8215532286212914"
      ]
     },
     "execution_count": 49,
     "metadata": {},
     "output_type": "execute_result"
    }
   ],
   "source": [
    "dtc_confusion = confusion_matrix(y_test, dtc_predicted)\n",
    "\n",
    "print('Decission tree classifier (max_dept : 8)\\n', dtc_confusion)\n",
    "dtc.score(X_test, y_test)"
   ]
  },
  {
   "cell_type": "code",
   "execution_count": 50,
   "id": "0186e7ed",
   "metadata": {},
   "outputs": [
    {
     "name": "stdout",
     "output_type": "stream",
     "text": [
      "Decission tree classifier (max_dept : 8)\n",
      " [[14148  1254]\n",
      " [ 2205  3021]]\n"
     ]
    },
    {
     "data": {
      "text/plain": [
       "0.8323152995927865"
      ]
     },
     "execution_count": 50,
     "metadata": {},
     "output_type": "execute_result"
    }
   ],
   "source": [
    "pred_train = dtc.predict(X_train)\n",
    "dtc_confusion = confusion_matrix(y_train, pred_train)\n",
    "print('Decission tree classifier (max_dept : 8)\\n', dtc_confusion)\n",
    "dtc.score(X_train, y_train)"
   ]
  },
  {
   "cell_type": "markdown",
   "id": "83b233a0",
   "metadata": {},
   "source": [
    "## Random forest classification"
   ]
  },
  {
   "cell_type": "code",
   "execution_count": 51,
   "id": "9d7a3b96",
   "metadata": {},
   "outputs": [],
   "source": [
    "rfc = RandomForestClassifier(n_estimators = 1000).fit(X_train, y_train.ravel())"
   ]
  },
  {
   "cell_type": "code",
   "execution_count": 52,
   "id": "c6d2b3fd",
   "metadata": {},
   "outputs": [],
   "source": [
    "rfc_predicted = rfc.predict(X_test)"
   ]
  },
  {
   "cell_type": "markdown",
   "id": "001988f1",
   "metadata": {},
   "source": [
    "### Random forest Evaluation"
   ]
  },
  {
   "cell_type": "code",
   "execution_count": 53,
   "id": "da32015b",
   "metadata": {},
   "outputs": [
    {
     "name": "stdout",
     "output_type": "stream",
     "text": [
      "Decission tree classifier (max_dept : 8)\n",
      " [[4630  477]\n",
      " [ 819  950]]\n"
     ]
    },
    {
     "data": {
      "text/plain": [
       "0.8115183246073299"
      ]
     },
     "execution_count": 53,
     "metadata": {},
     "output_type": "execute_result"
    }
   ],
   "source": [
    "rfc_confusion = confusion_matrix(y_test, rfc_predicted)\n",
    "\n",
    "print('Decission tree classifier (max_dept : 8)\\n', rfc_confusion)\n",
    "rfc.score(X_test, y_test)"
   ]
  },
  {
   "cell_type": "code",
   "execution_count": 54,
   "id": "349a699f",
   "metadata": {},
   "outputs": [
    {
     "name": "stdout",
     "output_type": "stream",
     "text": [
      "Decission tree classifier (max_dept : 8)\n",
      " [[15122   280]\n",
      " [  378  4848]]\n"
     ]
    },
    {
     "data": {
      "text/plain": [
       "0.968101609462866"
      ]
     },
     "execution_count": 54,
     "metadata": {},
     "output_type": "execute_result"
    }
   ],
   "source": [
    "pred_train = rfc.predict(X_train)\n",
    "rfc_confusion = confusion_matrix(y_train, pred_train)\n",
    "print('Random forest classifier (n_estimators : 1000)\\n', rfc_confusion)\n",
    "rfc.score(X_train, y_train)"
   ]
  },
  {
   "cell_type": "markdown",
   "id": "d63ca899",
   "metadata": {},
   "source": [
    "#### The random forrest model overfit the model"
   ]
  },
  {
   "cell_type": "markdown",
   "id": "1dce777f",
   "metadata": {},
   "source": [
    "## USING VOTING ENSEMBLE TO GET THE BEST MODEL "
   ]
  },
  {
   "cell_type": "code",
   "execution_count": 55,
   "id": "db078159",
   "metadata": {},
   "outputs": [],
   "source": [
    "estimators = [(\"decision\",dtc),(\"KNeighbors\", knc)]"
   ]
  },
  {
   "cell_type": "code",
   "execution_count": 56,
   "id": "f423add9",
   "metadata": {},
   "outputs": [],
   "source": [
    "vc = VotingClassifier(estimators=estimators, voting=\"soft\")"
   ]
  },
  {
   "cell_type": "code",
   "execution_count": 58,
   "id": "810f15b7",
   "metadata": {},
   "outputs": [
    {
     "data": {
      "text/plain": [
       "VotingClassifier(estimators=[('decision', DecisionTreeClassifier(max_depth=8)),\n",
       "                             ('KNeighbors',\n",
       "                              KNeighborsClassifier(n_neighbors=12))],\n",
       "                 voting='soft')"
      ]
     },
     "execution_count": 58,
     "metadata": {},
     "output_type": "execute_result"
    }
   ],
   "source": [
    "vc.fit(X_train, y_train.ravel())"
   ]
  },
  {
   "cell_type": "code",
   "execution_count": 59,
   "id": "4385a028",
   "metadata": {},
   "outputs": [
    {
     "data": {
      "text/plain": [
       "array([0, 0, 1, ..., 0, 0, 0])"
      ]
     },
     "execution_count": 59,
     "metadata": {},
     "output_type": "execute_result"
    }
   ],
   "source": [
    "vc_pred = vc.predict(X_test)\n",
    "vc_pred"
   ]
  },
  {
   "cell_type": "code",
   "execution_count": 62,
   "id": "76b74715",
   "metadata": {},
   "outputs": [
    {
     "name": "stdout",
     "output_type": "stream",
     "text": [
      "              precision    recall  f1-score   support\n",
      "\n",
      "           0       0.86      0.91      0.88      5107\n",
      "           1       0.69      0.56      0.62      1769\n",
      "\n",
      "    accuracy                           0.82      6876\n",
      "   macro avg       0.77      0.74      0.75      6876\n",
      "weighted avg       0.81      0.82      0.81      6876\n",
      "\n"
     ]
    }
   ],
   "source": [
    "# USING CLASSIFICATION REPORT TO TEST ACCURACY OF VOTING CLASSIFIER\n",
    "print(classification_report(y_test,vc_pred))"
   ]
  },
  {
   "cell_type": "markdown",
   "id": "d3d02f30",
   "metadata": {},
   "source": [
    "## USING BAGGING ENSEMBLE"
   ]
  },
  {
   "cell_type": "code",
   "execution_count": 65,
   "id": "3379cef8",
   "metadata": {},
   "outputs": [],
   "source": [
    "bc = BaggingClassifier(base_estimator = dtc, n_estimators=100).fit(X_train, y_train.ravel())"
   ]
  },
  {
   "cell_type": "code",
   "execution_count": 66,
   "id": "620c9b33",
   "metadata": {},
   "outputs": [],
   "source": [
    "bc_pred = bc.predict(X_test)"
   ]
  },
  {
   "cell_type": "code",
   "execution_count": 67,
   "id": "6cb2a51a",
   "metadata": {},
   "outputs": [
    {
     "name": "stdout",
     "output_type": "stream",
     "text": [
      "              precision    recall  f1-score   support\n",
      "\n",
      "           0       0.86      0.92      0.89      5107\n",
      "           1       0.70      0.56      0.62      1769\n",
      "\n",
      "    accuracy                           0.83      6876\n",
      "   macro avg       0.78      0.74      0.75      6876\n",
      "weighted avg       0.82      0.83      0.82      6876\n",
      "\n"
     ]
    }
   ],
   "source": [
    "# USING CLASSIFICATION REPORT TO TEST ACCURACY OF BAGGING CLASSIFIER\n",
    "print(classification_report(y_test,bc_pred))"
   ]
  },
  {
   "cell_type": "markdown",
   "id": "899f311a",
   "metadata": {},
   "source": [
    "## USING STACKING ENSEMBLE"
   ]
  },
  {
   "cell_type": "code",
   "execution_count": 69,
   "id": "3d7709e6",
   "metadata": {},
   "outputs": [],
   "source": [
    "sc = StackingClassifier(estimators=estimators, final_estimator = dtc).fit(X_train, y_train.ravel())"
   ]
  },
  {
   "cell_type": "code",
   "execution_count": 70,
   "id": "959da20d",
   "metadata": {},
   "outputs": [
    {
     "data": {
      "text/plain": [
       "array([0, 0, 0, ..., 0, 0, 0])"
      ]
     },
     "execution_count": 70,
     "metadata": {},
     "output_type": "execute_result"
    }
   ],
   "source": [
    "sc_pred = sc.predict(X_test)\n",
    "sc_pred"
   ]
  },
  {
   "cell_type": "code",
   "execution_count": 71,
   "id": "b2856474",
   "metadata": {},
   "outputs": [
    {
     "name": "stdout",
     "output_type": "stream",
     "text": [
      "              precision    recall  f1-score   support\n",
      "\n",
      "           0       0.84      0.94      0.88      5107\n",
      "           1       0.72      0.47      0.57      1769\n",
      "\n",
      "    accuracy                           0.82      6876\n",
      "   macro avg       0.78      0.70      0.72      6876\n",
      "weighted avg       0.80      0.82      0.80      6876\n",
      "\n"
     ]
    }
   ],
   "source": [
    "# USING CLASSIFICATION REPORT TO TEST ACCURACY OF STACKING CLASSIFIER\n",
    "print(classification_report(y_test,sc_pred))"
   ]
  },
  {
   "cell_type": "markdown",
   "id": "31b491b7",
   "metadata": {},
   "source": [
    "## USING GRADIENT BOOSTING CLASSIFIER"
   ]
  },
  {
   "cell_type": "code",
   "execution_count": 72,
   "id": "98cc6449",
   "metadata": {},
   "outputs": [],
   "source": [
    "gbc = GradientBoostingClassifier(n_estimators=100)"
   ]
  },
  {
   "cell_type": "code",
   "execution_count": 73,
   "id": "5d36bd3f",
   "metadata": {},
   "outputs": [
    {
     "data": {
      "text/plain": [
       "GradientBoostingClassifier()"
      ]
     },
     "execution_count": 73,
     "metadata": {},
     "output_type": "execute_result"
    }
   ],
   "source": [
    "gbc.fit(X_train, y_train.ravel())"
   ]
  },
  {
   "cell_type": "code",
   "execution_count": 74,
   "id": "a4a9fa03",
   "metadata": {},
   "outputs": [
    {
     "data": {
      "text/plain": [
       "array([0, 0, 1, ..., 0, 0, 0])"
      ]
     },
     "execution_count": 74,
     "metadata": {},
     "output_type": "execute_result"
    }
   ],
   "source": [
    "gbc_pred = gbc.predict(X_test)\n",
    "gbc_pred"
   ]
  },
  {
   "cell_type": "code",
   "execution_count": 75,
   "id": "bd5fe871",
   "metadata": {},
   "outputs": [
    {
     "name": "stdout",
     "output_type": "stream",
     "text": [
      "              precision    recall  f1-score   support\n",
      "\n",
      "           0       0.86      0.93      0.89      5107\n",
      "           1       0.74      0.57      0.64      1769\n",
      "\n",
      "    accuracy                           0.84      6876\n",
      "   macro avg       0.80      0.75      0.77      6876\n",
      "weighted avg       0.83      0.84      0.83      6876\n",
      "\n"
     ]
    }
   ],
   "source": [
    "# USING CLASSIFICATION REPORT TO TEST ACCURACY OF GRADIENT BOOSTING CLASSIFIER\n",
    "print(classification_report(y_test,gbc_pred))"
   ]
  },
  {
   "cell_type": "markdown",
   "id": "fc764bbf",
   "metadata": {},
   "source": [
    "## USING VOTING ENSEMBLE TO GET THE BEST MODEL"
   ]
  },
  {
   "cell_type": "code",
   "execution_count": 76,
   "id": "52a72f63",
   "metadata": {},
   "outputs": [],
   "source": [
    "estimators = [(\"Voting\", vc), (\"Bagging\", bc), (\"Stacking\", sc), (\"Gradient\", gbc)]"
   ]
  },
  {
   "cell_type": "code",
   "execution_count": 77,
   "id": "8d25d836",
   "metadata": {},
   "outputs": [],
   "source": [
    "vc = VotingClassifier(estimators=estimators, voting=\"hard\")"
   ]
  },
  {
   "cell_type": "code",
   "execution_count": 78,
   "id": "29e19c6c",
   "metadata": {},
   "outputs": [
    {
     "data": {
      "text/plain": [
       "VotingClassifier(estimators=[('Voting',\n",
       "                              VotingClassifier(estimators=[('decision',\n",
       "                                                            DecisionTreeClassifier(max_depth=8)),\n",
       "                                                           ('KNeighbors',\n",
       "                                                            KNeighborsClassifier(n_neighbors=12))],\n",
       "                                               voting='soft')),\n",
       "                             ('Bagging',\n",
       "                              BaggingClassifier(base_estimator=DecisionTreeClassifier(max_depth=8),\n",
       "                                                n_estimators=100)),\n",
       "                             ('Stacking',\n",
       "                              StackingClassifier(estimators=[('decision',\n",
       "                                                              DecisionTreeClassifier(max_depth=8)),\n",
       "                                                             ('KNeighbors',\n",
       "                                                              KNeighborsClassifier(n_neighbors=12))],\n",
       "                                                 final_estimator=DecisionTreeClassifier(max_depth=8))),\n",
       "                             ('Gradient', GradientBoostingClassifier())])"
      ]
     },
     "execution_count": 78,
     "metadata": {},
     "output_type": "execute_result"
    }
   ],
   "source": [
    "vc.fit(X_train, y_train.ravel())"
   ]
  },
  {
   "cell_type": "code",
   "execution_count": 79,
   "id": "f259248e",
   "metadata": {},
   "outputs": [
    {
     "data": {
      "text/plain": [
       "array([0, 0, 0, ..., 0, 0, 0])"
      ]
     },
     "execution_count": 79,
     "metadata": {},
     "output_type": "execute_result"
    }
   ],
   "source": [
    "final_pred = vc.predict(X_test)\n",
    "final_pred"
   ]
  },
  {
   "cell_type": "code",
   "execution_count": 80,
   "id": "13147a8c",
   "metadata": {},
   "outputs": [
    {
     "name": "stdout",
     "output_type": "stream",
     "text": [
      "              precision    recall  f1-score   support\n",
      "\n",
      "           0       0.85      0.94      0.89      5107\n",
      "           1       0.73      0.51      0.60      1769\n",
      "\n",
      "    accuracy                           0.83      6876\n",
      "   macro avg       0.79      0.72      0.74      6876\n",
      "weighted avg       0.82      0.83      0.81      6876\n",
      "\n"
     ]
    }
   ],
   "source": [
    "# USING CLASSIFICATION REPORT TO TEST ACCURACY OF VOTING CLASSIFIER\n",
    "print(classification_report(y_test,final_pred))"
   ]
  },
  {
   "cell_type": "code",
   "execution_count": null,
   "id": "f7c15ea0",
   "metadata": {},
   "outputs": [],
   "source": []
  }
 ],
 "metadata": {
  "kernelspec": {
   "display_name": "Python 3 (ipykernel)",
   "language": "python",
   "name": "python3"
  },
  "language_info": {
   "codemirror_mode": {
    "name": "ipython",
    "version": 3
   },
   "file_extension": ".py",
   "mimetype": "text/x-python",
   "name": "python",
   "nbconvert_exporter": "python",
   "pygments_lexer": "ipython3",
   "version": "3.9.12"
  }
 },
 "nbformat": 4,
 "nbformat_minor": 5
}
